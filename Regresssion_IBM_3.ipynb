{
  "nbformat": 4,
  "nbformat_minor": 0,
  "metadata": {
    "kernelspec": {
      "display_name": "Python 3",
      "language": "python",
      "name": "python3"
    },
    "language_info": {
      "codemirror_mode": {
        "name": "ipython",
        "version": 3
      },
      "file_extension": ".py",
      "mimetype": "text/x-python",
      "name": "python",
      "nbconvert_exporter": "python",
      "pygments_lexer": "ipython3",
      "version": "3.7.6"
    },
    "varInspector": {
      "cols": {
        "lenName": 16,
        "lenType": 16,
        "lenVar": 40
      },
      "kernels_config": {
        "python": {
          "delete_cmd_postfix": "",
          "delete_cmd_prefix": "del ",
          "library": "var_list.py",
          "varRefreshCmd": "print(var_dic_list())"
        },
        "r": {
          "delete_cmd_postfix": ") ",
          "delete_cmd_prefix": "rm(",
          "library": "var_list.r",
          "varRefreshCmd": "cat(var_dic_list()) "
        }
      },
      "types_to_exclude": [
        "module",
        "function",
        "builtin_function_or_method",
        "instance",
        "_Feature"
      ],
      "window_display": false
    },
    "colab": {
      "provenance": [],
      "collapsed_sections": [
        "yasWTM9n-_8B",
        "BHvaF-m8CGKL"
      ]
    }
  },
  "cells": [
    {
      "cell_type": "markdown",
      "metadata": {
        "id": "qIG5orrCCGJS"
      },
      "source": [
        "# Machine Learning Foundation\n",
        "\n",
        "## Section 2, Part c: Cross Validation "
      ]
    },
    {
      "cell_type": "markdown",
      "metadata": {
        "id": "ZYyF362UCGJf"
      },
      "source": [
        "## Learning objectives\n",
        "\n",
        "By the end of this lesson, you will be able to:\n",
        "\n",
        "* Chain multiple data processing steps together using `Pipeline`\n",
        "* Use the `KFolds` object to split data into multiple folds.\n",
        "* Perform cross validation using SciKit Learn with `cross_val_predict` and `GridSearchCV`\n"
      ]
    },
    {
      "cell_type": "code",
      "metadata": {
        "ExecuteTime": {
          "end_time": "2019-02-19T17:20:55.865735Z",
          "start_time": "2019-02-19T17:20:54.685698Z"
        },
        "id": "Q-OhDtezCGJh"
      },
      "source": [
        "import numpy as np\n",
        "import pickle\n",
        "import pandas as pd\n",
        "import matplotlib.pyplot as plt\n",
        "\n",
        "from sklearn.preprocessing import StandardScaler, PolynomialFeatures\n",
        "from sklearn.model_selection import KFold, cross_val_predict\n",
        "# Laso and Ridge are linear regression models that ensure that there is no over-fitting \n",
        "from sklearn.linear_model import LinearRegression, Lasso, Ridge\n",
        "from sklearn.metrics import r2_score\n",
        "from sklearn.pipeline import Pipeline"
      ],
      "execution_count": null,
      "outputs": []
    },
    {
      "cell_type": "code",
      "metadata": {
        "colab": {
          "resources": {
            "http://localhost:8080/nbextensions/google.colab/files.js": {
              "data": "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",
              "ok": true,
              "headers": [
                [
                  "content-type",
                  "application/javascript"
                ]
              ],
              "status": 200,
              "status_text": ""
            }
          },
          "base_uri": "https://localhost:8080/",
          "height": 55
        },
        "id": "AQZOtZSGCw67",
        "outputId": "4f8d000b-bab0-4c4e-a544-cd20fe606538"
      },
      "source": [
        "from google.colab import files \n",
        "files.upload()"
      ],
      "execution_count": null,
      "outputs": [
        {
          "output_type": "display_data",
          "data": {
            "text/html": [
              "\n",
              "     <input type=\"file\" id=\"files-c3d9dc0b-e53d-4138-af3b-6ca4c936daea\" name=\"files[]\" multiple disabled\n",
              "        style=\"border:none\" />\n",
              "     <output id=\"result-c3d9dc0b-e53d-4138-af3b-6ca4c936daea\">\n",
              "      Upload widget is only available when the cell has been executed in the\n",
              "      current browser session. Please rerun this cell to enable.\n",
              "      </output>\n",
              "      <script src=\"/nbextensions/google.colab/files.js\"></script> "
            ],
            "text/plain": [
              "<IPython.core.display.HTML object>"
            ]
          },
          "metadata": {
            "tags": []
          }
        },
        {
          "output_type": "execute_result",
          "data": {
            "text/plain": [
              "{}"
            ]
          },
          "metadata": {
            "tags": []
          },
          "execution_count": 2
        }
      ]
    },
    {
      "cell_type": "markdown",
      "metadata": {
        "id": "MGdQ9gnzEqjO"
      },
      "source": [
        "## Upload the file\n",
        "Use files.upload to upload file and then open it  "
      ]
    },
    {
      "cell_type": "code",
      "metadata": {
        "ExecuteTime": {
          "end_time": "2019-02-19T17:20:58.445911Z",
          "start_time": "2019-02-19T17:20:58.440191Z"
        },
        "id": "xzKwtPx7CGJk"
      },
      "source": [
        "# Note we are loading a slightly different (\"cleaned\") pickle file\n",
        "boston = pickle.load(open('/content/boston_housing_cleaned.pickle', \"rb\" ))"
      ],
      "execution_count": null,
      "outputs": []
    },
    {
      "cell_type": "markdown",
      "metadata": {
        "id": "ncgKd--_U0iC"
      },
      "source": []
    },
    {
      "cell_type": "markdown",
      "metadata": {
        "id": "rYBy6gnfE1uR"
      },
      "source": [
        "## Reading the dataframe from the file : \n",
        "Read the dataframe and explore it "
      ]
    },
    {
      "cell_type": "code",
      "metadata": {
        "ExecuteTime": {
          "end_time": "2019-02-19T17:21:01.676948Z",
          "start_time": "2019-02-19T17:21:01.671315Z"
        },
        "colab": {
          "base_uri": "https://localhost:8080/"
        },
        "id": "eRbJf1M9CGJl",
        "outputId": "fb4e64e7-be70-428a-cc6b-3a3171dddb50"
      },
      "source": [
        "boston.keys()"
      ],
      "execution_count": null,
      "outputs": [
        {
          "output_type": "execute_result",
          "data": {
            "text/plain": [
              "dict_keys(['dataframe', 'description'])"
            ]
          },
          "metadata": {
            "tags": []
          },
          "execution_count": 4
        }
      ]
    },
    {
      "cell_type": "code",
      "metadata": {
        "ExecuteTime": {
          "end_time": "2019-02-19T17:21:10.682135Z",
          "start_time": "2019-02-19T17:21:10.678835Z"
        },
        "id": "hjOWKvhmCGJm"
      },
      "source": [
        "boston_data = boston['dataframe']\n",
        "boston_description = boston['description']"
      ],
      "execution_count": null,
      "outputs": []
    },
    {
      "cell_type": "code",
      "metadata": {
        "ExecuteTime": {
          "end_time": "2019-02-19T17:22:10.274974Z",
          "start_time": "2019-02-19T17:22:10.256879Z"
        },
        "colab": {
          "base_uri": "https://localhost:8080/",
          "height": 204
        },
        "id": "9dj0zGnJCGJm",
        "outputId": "cd7f8723-8b6c-4f95-b775-b8bc81ced56f"
      },
      "source": [
        "boston_data.head()"
      ],
      "execution_count": null,
      "outputs": [
        {
          "output_type": "execute_result",
          "data": {
            "text/html": [
              "<div>\n",
              "<style scoped>\n",
              "    .dataframe tbody tr th:only-of-type {\n",
              "        vertical-align: middle;\n",
              "    }\n",
              "\n",
              "    .dataframe tbody tr th {\n",
              "        vertical-align: top;\n",
              "    }\n",
              "\n",
              "    .dataframe thead th {\n",
              "        text-align: right;\n",
              "    }\n",
              "</style>\n",
              "<table border=\"1\" class=\"dataframe\">\n",
              "  <thead>\n",
              "    <tr style=\"text-align: right;\">\n",
              "      <th></th>\n",
              "      <th>CRIM</th>\n",
              "      <th>ZN</th>\n",
              "      <th>INDUS</th>\n",
              "      <th>CHAS</th>\n",
              "      <th>NOX</th>\n",
              "      <th>RM</th>\n",
              "      <th>AGE</th>\n",
              "      <th>DIS</th>\n",
              "      <th>RAD</th>\n",
              "      <th>TAX</th>\n",
              "      <th>PTRATIO</th>\n",
              "      <th>B</th>\n",
              "      <th>LSTAT</th>\n",
              "      <th>MEDV</th>\n",
              "    </tr>\n",
              "  </thead>\n",
              "  <tbody>\n",
              "    <tr>\n",
              "      <th>0</th>\n",
              "      <td>0.00632</td>\n",
              "      <td>18.0</td>\n",
              "      <td>2.31</td>\n",
              "      <td>0.0</td>\n",
              "      <td>0.538</td>\n",
              "      <td>6.575</td>\n",
              "      <td>65.2</td>\n",
              "      <td>4.0900</td>\n",
              "      <td>1.0</td>\n",
              "      <td>296.0</td>\n",
              "      <td>15.3</td>\n",
              "      <td>396.90</td>\n",
              "      <td>4.98</td>\n",
              "      <td>24.0</td>\n",
              "    </tr>\n",
              "    <tr>\n",
              "      <th>1</th>\n",
              "      <td>0.02731</td>\n",
              "      <td>0.0</td>\n",
              "      <td>7.07</td>\n",
              "      <td>0.0</td>\n",
              "      <td>0.469</td>\n",
              "      <td>6.421</td>\n",
              "      <td>78.9</td>\n",
              "      <td>4.9671</td>\n",
              "      <td>2.0</td>\n",
              "      <td>242.0</td>\n",
              "      <td>17.8</td>\n",
              "      <td>396.90</td>\n",
              "      <td>9.14</td>\n",
              "      <td>21.6</td>\n",
              "    </tr>\n",
              "    <tr>\n",
              "      <th>2</th>\n",
              "      <td>0.02729</td>\n",
              "      <td>0.0</td>\n",
              "      <td>7.07</td>\n",
              "      <td>0.0</td>\n",
              "      <td>0.469</td>\n",
              "      <td>7.185</td>\n",
              "      <td>61.1</td>\n",
              "      <td>4.9671</td>\n",
              "      <td>2.0</td>\n",
              "      <td>242.0</td>\n",
              "      <td>17.8</td>\n",
              "      <td>392.83</td>\n",
              "      <td>4.03</td>\n",
              "      <td>34.7</td>\n",
              "    </tr>\n",
              "    <tr>\n",
              "      <th>3</th>\n",
              "      <td>0.03237</td>\n",
              "      <td>0.0</td>\n",
              "      <td>2.18</td>\n",
              "      <td>0.0</td>\n",
              "      <td>0.458</td>\n",
              "      <td>6.998</td>\n",
              "      <td>45.8</td>\n",
              "      <td>6.0622</td>\n",
              "      <td>3.0</td>\n",
              "      <td>222.0</td>\n",
              "      <td>18.7</td>\n",
              "      <td>394.63</td>\n",
              "      <td>2.94</td>\n",
              "      <td>33.4</td>\n",
              "    </tr>\n",
              "    <tr>\n",
              "      <th>4</th>\n",
              "      <td>0.06905</td>\n",
              "      <td>0.0</td>\n",
              "      <td>2.18</td>\n",
              "      <td>0.0</td>\n",
              "      <td>0.458</td>\n",
              "      <td>7.147</td>\n",
              "      <td>54.2</td>\n",
              "      <td>6.0622</td>\n",
              "      <td>3.0</td>\n",
              "      <td>222.0</td>\n",
              "      <td>18.7</td>\n",
              "      <td>396.90</td>\n",
              "      <td>5.33</td>\n",
              "      <td>36.2</td>\n",
              "    </tr>\n",
              "  </tbody>\n",
              "</table>\n",
              "</div>"
            ],
            "text/plain": [
              "      CRIM    ZN  INDUS  CHAS    NOX  ...    TAX  PTRATIO       B  LSTAT  MEDV\n",
              "0  0.00632  18.0   2.31   0.0  0.538  ...  296.0     15.3  396.90   4.98  24.0\n",
              "1  0.02731   0.0   7.07   0.0  0.469  ...  242.0     17.8  396.90   9.14  21.6\n",
              "2  0.02729   0.0   7.07   0.0  0.469  ...  242.0     17.8  392.83   4.03  34.7\n",
              "3  0.03237   0.0   2.18   0.0  0.458  ...  222.0     18.7  394.63   2.94  33.4\n",
              "4  0.06905   0.0   2.18   0.0  0.458  ...  222.0     18.7  396.90   5.33  36.2\n",
              "\n",
              "[5 rows x 14 columns]"
            ]
          },
          "metadata": {
            "tags": []
          },
          "execution_count": 6
        }
      ]
    },
    {
      "cell_type": "markdown",
      "metadata": {
        "id": "4XZF4JK3CGJn"
      },
      "source": [
        "### Discussion: \n",
        "\n",
        "Suppose we want to do Linear Regression on our dataset to get an estimate, based on mean squared error, of how well our model will perform on data outside our dataset. \n",
        "\n",
        "Suppose also that our data is split into three folds: Fold 1, Fold 2, and Fold 3.\n",
        "\n",
        "What would the steps be, in English, to do this?"
      ]
    },
    {
      "cell_type": "markdown",
      "metadata": {
        "id": "yOLjh1IJCGJo"
      },
      "source": [
        "We use k-fold for data splitting to multiple data-sets and then test on each portion òf the data"
      ]
    },
    {
      "cell_type": "markdown",
      "metadata": {
        "id": "rsFaK26-CGJp"
      },
      "source": [
        "\n",
        "\n",
        "```\n",
        "# This is formatted as code\n",
        "```\n",
        "\n",
        "#### Coding this up\n",
        "\n",
        "The [`KFold`](http://scikit-learn.org/stable/modules/generated/sklearn.model_selection.KFold.html) object in SciKit Learn tells the cross validation object (see below) how to split up the data:"
      ]
    },
    {
      "cell_type": "code",
      "metadata": {
        "ExecuteTime": {
          "end_time": "2019-02-19T17:23:05.068445Z",
          "start_time": "2019-02-19T17:23:05.064683Z"
        },
        "id": "3XW8gbz-CGJq"
      },
      "source": [
        "X = boston_data.drop('MEDV', axis=1)\n",
        "y = boston_data.MEDV"
      ],
      "execution_count": null,
      "outputs": []
    },
    {
      "cell_type": "code",
      "metadata": {
        "colab": {
          "base_uri": "https://localhost:8080/"
        },
        "id": "TFda0v9WJGhH",
        "outputId": "84c8ed48-4fb1-490b-8f16-4723f67d9071"
      },
      "source": [
        "X.shape"
      ],
      "execution_count": null,
      "outputs": [
        {
          "output_type": "execute_result",
          "data": {
            "text/plain": [
              "(506, 13)"
            ]
          },
          "metadata": {
            "tags": []
          },
          "execution_count": 8
        }
      ]
    },
    {
      "cell_type": "markdown",
      "metadata": {
        "id": "ANUi3qpnJQhQ"
      },
      "source": [
        "for only 3 splits (where the test sample is one third and can not be duplicated ) and we will have 3 splits ò training and testing sampples "
      ]
    },
    {
      "cell_type": "code",
      "metadata": {
        "ExecuteTime": {
          "end_time": "2019-02-19T17:23:10.538982Z",
          "start_time": "2019-02-19T17:23:10.534325Z"
        },
        "id": "8jwG_Df0CGJq"
      },
      "source": [
        "# create object \n",
        "kf = KFold(shuffle=True, random_state=72018, n_splits=3)"
      ],
      "execution_count": null,
      "outputs": []
    },
    {
      "cell_type": "code",
      "metadata": {
        "colab": {
          "base_uri": "https://localhost:8080/"
        },
        "id": "O0Z4qfv9USkr",
        "outputId": "de62fe54-49ee-4b9b-f4ef-9bae020551c0"
      },
      "source": [
        "kf.split(X)"
      ],
      "execution_count": null,
      "outputs": [
        {
          "output_type": "execute_result",
          "data": {
            "text/plain": [
              "<generator object _BaseKFold.split at 0x7f9294290d00>"
            ]
          },
          "metadata": {
            "tags": []
          },
          "execution_count": 10
        }
      ]
    },
    {
      "cell_type": "code",
      "metadata": {
        "ExecuteTime": {
          "end_time": "2019-02-19T17:25:04.578536Z",
          "start_time": "2019-02-19T17:25:04.568959Z"
        },
        "scrolled": true,
        "colab": {
          "base_uri": "https://localhost:8080/"
        },
        "id": "s6pU-XtMCGJr",
        "outputId": "11a9276c-8d25-4131-9f6c-c391e70c56df"
      },
      "source": [
        "for train_index, test_index in kf.split(X):\n",
        "    print(\"Train index:\", train_index[0:10], len(train_index))\n",
        "    print(\"Test index:\", test_index[0:10], len(test_index))\n",
        "    print('')"
      ],
      "execution_count": null,
      "outputs": [
        {
          "output_type": "stream",
          "text": [
            "Train index: [ 1  3  4  5  7  8 10 11 12 13] 337\n",
            "Test index: [ 0  2  6  9 15 17 19 23 25 26] 169\n",
            "\n",
            "Train index: [ 0  2  6  9 10 11 12 13 15 17] 337\n",
            "Test index: [ 1  3  4  5  7  8 14 16 22 27] 169\n",
            "\n",
            "Train index: [0 1 2 3 4 5 6 7 8 9] 338\n",
            "Test index: [10 11 12 13 18 20 21 24 28 31] 168\n",
            "\n"
          ],
          "name": "stdout"
        }
      ]
    },
    {
      "cell_type": "code",
      "metadata": {
        "ExecuteTime": {
          "end_time": "2019-02-19T17:28:10.441616Z",
          "start_time": "2019-02-19T17:28:10.204857Z"
        },
        "colab": {
          "base_uri": "https://localhost:8080/"
        },
        "id": "lNfb3nz9CGJr",
        "outputId": "d97365eb-e91e-4861-eec3-d2c3c65e1afb"
      },
      "source": [
        "#from sklearn.metrics import r2_score, mean_squared_error\n",
        "\n",
        "scores = []\n",
        "# create a predictor object \n",
        "lr = LinearRegression()\n",
        "# loop for each split : \n",
        "for train_index, test_index in kf.split(X):\n",
        "    X_train, X_test, y_train, y_test = (X.iloc[train_index, :], \n",
        "                                        X.iloc[test_index, :], \n",
        "                                        y[train_index], \n",
        "                                        y[test_index])\n",
        "    # fit the mpodel \n",
        "    lr.fit(X_train, y_train)\n",
        "    # predict     \n",
        "    y_pred = lr.predict(X_test)\n",
        "     # evaluate using r2 score \n",
        "    score = r2_score(y_test.values, y_pred)\n",
        "    \n",
        "    scores.append(score)\n",
        "    \n",
        "scores"
      ],
      "execution_count": null,
      "outputs": [
        {
          "output_type": "execute_result",
          "data": {
            "text/plain": [
              "[0.6719348798472724, 0.7485020059212374, 0.6976807323597793]"
            ]
          },
          "metadata": {
            "tags": []
          },
          "execution_count": 12
        }
      ]
    },
    {
      "cell_type": "markdown",
      "metadata": {
        "id": "PjQ11P2vCGJs"
      },
      "source": [
        "A bit cumbersome, but do-able."
      ]
    },
    {
      "cell_type": "markdown",
      "metadata": {
        "id": "TUPu4c8XCGJt"
      },
      "source": [
        "### Discussion (Part 2): \n",
        "\n",
        "Now suppose we want to do the same, but appropriately scaling our data as we go through the folds.\n",
        "\n",
        "What would the steps be _now_?"
      ]
    },
    {
      "cell_type": "markdown",
      "metadata": {
        "id": "11tAIoDHCGJt"
      },
      "source": [
        "**Your response below**"
      ]
    },
    {
      "cell_type": "markdown",
      "metadata": {
        "id": "OB4gQUK_CGJu"
      },
      "source": [
        "### Coding this up"
      ]
    },
    {
      "cell_type": "code",
      "metadata": {
        "ExecuteTime": {
          "end_time": "2019-02-19T17:32:07.846336Z",
          "start_time": "2019-02-19T17:32:07.808810Z"
        },
        "id": "Ju_5jjSjCGJu"
      },
      "source": [
        "scores = []\n",
        "\n",
        "lr = LinearRegression()\n",
        "# standard scaler object \n",
        "s = StandardScaler()\n",
        "\n",
        "for train_index, test_index in kf.split(X):\n",
        "    X_train, X_test, y_train, y_test = (X.iloc[train_index, :],  # all columns of x_train\n",
        "                                        X.iloc[test_index, :],    # all columns of x_test\n",
        "                                        y[train_index], \n",
        "                                        y[test_index])\n",
        "    # standard scaling for training set\n",
        "    X_train_s = s.fit_transform(X_train)\n",
        "    lr.fit(X_train_s, y_train)\n",
        "\n",
        "    # standard scaling for testing set \n",
        "    X_test_s = s.transform(X_test)\n",
        "    y_pred = lr.predict(X_test_s)\n",
        "\n",
        "    score = r2_score(y_test.values, y_pred)\n",
        "    \n",
        "    scores.append(score)"
      ],
      "execution_count": null,
      "outputs": []
    },
    {
      "cell_type": "code",
      "metadata": {
        "ExecuteTime": {
          "end_time": "2019-02-19T17:32:09.978972Z",
          "start_time": "2019-02-19T17:32:09.974341Z"
        },
        "colab": {
          "base_uri": "https://localhost:8080/"
        },
        "id": "_L0chw74CGJv",
        "outputId": "311c145a-b811-433d-820c-cd227c43bb66"
      },
      "source": [
        "scores"
      ],
      "execution_count": null,
      "outputs": [
        {
          "output_type": "execute_result",
          "data": {
            "text/plain": [
              "[0.6719348798472715, 0.7485020059212382, 0.6976807323597745]"
            ]
          },
          "metadata": {
            "tags": []
          },
          "execution_count": 16
        }
      ]
    },
    {
      "cell_type": "markdown",
      "metadata": {
        "id": "WrgCvUAZCGJv"
      },
      "source": [
        "(same scores, because for vanilla linear regression with no regularization, scaling actually doesn't matter for performance)"
      ]
    },
    {
      "cell_type": "markdown",
      "metadata": {
        "id": "UbhUgq0BCGJw"
      },
      "source": [
        "This is getting quite cumbersome! \n",
        "\n",
        "_Very_ luckily, SciKit Learn has some wonderful functions that handle a lot of this for us."
      ]
    },
    {
      "cell_type": "markdown",
      "metadata": {
        "id": "EJhuTgoBCGJw"
      },
      "source": [
        "### `Pipeline` and `cross_val_predict`"
      ]
    },
    {
      "cell_type": "markdown",
      "metadata": {
        "id": "mwU5Wn61CGJx"
      },
      "source": [
        "`Pipeline` lets you chain together multiple operators on your data that both have a `fit` method."
      ]
    },
    {
      "cell_type": "code",
      "metadata": {
        "ExecuteTime": {
          "end_time": "2019-02-19T17:33:28.695381Z",
          "start_time": "2019-02-19T17:33:28.691865Z"
        },
        "id": "eVKIaI_WCGJx"
      },
      "source": [
        "s = StandardScaler()\n",
        "lr = LinearRegression()"
      ],
      "execution_count": null,
      "outputs": []
    },
    {
      "cell_type": "markdown",
      "metadata": {
        "id": "n3I_97OjCGJy"
      },
      "source": [
        "### Combine multiple processing steps into a `Pipeline`\n",
        "\n",
        "A pipeline contains a series of steps, where a step is (\"name of step\", actual_model). The \"name of step\" string is only used to help you identify which step you are on, and to allow you to specify parameters at that step.  \n",
        "https://scikit-learn.org/stable/modules/generated/sklearn.pipeline.Pipeline.html"
      ]
    },
    {
      "cell_type": "code",
      "metadata": {
        "ExecuteTime": {
          "end_time": "2019-02-19T17:33:32.657281Z",
          "start_time": "2019-02-19T17:33:32.653852Z"
        },
        "id": "aM-BmAV1CGJy"
      },
      "source": [
        "# (name òf the step , object name)\n",
        "estimator = Pipeline([(\"scaler\", s),\n",
        "                      (\"regression\", lr)])"
      ],
      "execution_count": null,
      "outputs": []
    },
    {
      "cell_type": "code",
      "metadata": {
        "colab": {
          "base_uri": "https://localhost:8080/"
        },
        "id": "-xHkkmrotWTQ",
        "outputId": "a1674688-1cb9-45c0-fdd0-eff11c7c82e9"
      },
      "source": [
        "test_index"
      ],
      "execution_count": null,
      "outputs": [
        {
          "output_type": "execute_result",
          "data": {
            "text/plain": [
              "array([ 10,  11,  12,  13,  18,  20,  21,  24,  28,  31,  36,  37,  42,\n",
              "        43,  45,  47,  48,  51,  52,  55,  58,  60,  61,  65,  67,  68,\n",
              "        71,  75,  77,  84,  85,  87,  91,  93,  95,  96, 103, 113, 115,\n",
              "       117, 121, 122, 130, 132, 133, 136, 143, 145, 150, 152, 154, 155,\n",
              "       156, 158, 160, 161, 170, 172, 177, 180, 183, 191, 195, 200, 202,\n",
              "       204, 206, 212, 214, 215, 219, 220, 222, 223, 224, 228, 230, 240,\n",
              "       243, 244, 249, 250, 253, 258, 263, 264, 265, 266, 270, 274, 278,\n",
              "       279, 280, 286, 287, 291, 297, 299, 306, 307, 308, 310, 313, 317,\n",
              "       320, 321, 322, 323, 326, 330, 338, 339, 340, 341, 343, 344, 349,\n",
              "       350, 352, 358, 360, 362, 363, 370, 373, 375, 380, 382, 385, 393,\n",
              "       394, 396, 400, 401, 402, 407, 408, 409, 415, 417, 420, 421, 430,\n",
              "       431, 432, 437, 438, 444, 445, 447, 453, 454, 463, 466, 476, 478,\n",
              "       481, 484, 487, 491, 492, 493, 494, 497, 498, 500, 501, 504])"
            ]
          },
          "metadata": {
            "tags": []
          },
          "execution_count": 36
        }
      ]
    },
    {
      "cell_type": "code",
      "metadata": {
        "colab": {
          "base_uri": "https://localhost:8080/"
        },
        "id": "fIDKYWN6qoRm",
        "outputId": "228b3f3c-8b14-4527-bbea-0d6fd92fdafa"
      },
      "source": [
        "X_train = X.iloc[train_index , : ]\n",
        "y_train = y.iloc[train_index]\n",
        "X_test = X.iloc[test_index , :]\n",
        "y_test = y.iloc[test_index]\n",
        "estimator.fit(X_train , y_train)"
      ],
      "execution_count": null,
      "outputs": [
        {
          "output_type": "execute_result",
          "data": {
            "text/plain": [
              "Pipeline(memory=None,\n",
              "         steps=[('scaler',\n",
              "                 StandardScaler(copy=True, with_mean=True, with_std=True)),\n",
              "                ('regression',\n",
              "                 LinearRegression(copy_X=True, fit_intercept=True, n_jobs=None,\n",
              "                                  normalize=False))],\n",
              "         verbose=False)"
            ]
          },
          "metadata": {
            "tags": []
          },
          "execution_count": 38
        }
      ]
    },
    {
      "cell_type": "code",
      "metadata": {
        "id": "sYolIoB3rzLC"
      },
      "source": [
        "y_pred = estimator.predict(X_test)"
      ],
      "execution_count": null,
      "outputs": []
    },
    {
      "cell_type": "code",
      "metadata": {
        "colab": {
          "base_uri": "https://localhost:8080/"
        },
        "id": "Hf_Lj6PYudpe",
        "outputId": "326be92a-fca4-4a99-e770-d72c7746516f"
      },
      "source": [
        "r2_score(y_pred, y_test)"
      ],
      "execution_count": null,
      "outputs": [
        {
          "output_type": "execute_result",
          "data": {
            "text/plain": [
              "0.5815153593922473"
            ]
          },
          "metadata": {
            "tags": []
          },
          "execution_count": 40
        },
        {
          "output_type": "execute_result",
          "data": {
            "text/plain": [
              "0.5815153593922473"
            ]
          },
          "metadata": {
            "tags": []
          },
          "execution_count": 41
        }
      ]
    },
    {
      "cell_type": "markdown",
      "metadata": {
        "id": "sOt8L54vCGJz"
      },
      "source": [
        "### `cross_val_predict`\n",
        "\n",
        "[`cross_val_predict`](http://scikit-learn.org/stable/modules/generated/sklearn.model_selection.cross_val_predict.html) is a function that does K-fold cross validation for us, appropriately fitting and transforming at every step of the way."
      ]
    },
    {
      "cell_type": "code",
      "metadata": {
        "colab": {
          "base_uri": "https://localhost:8080/"
        },
        "id": "-KaeLgVLCGJz",
        "outputId": "4121bb6f-79f4-4039-86a0-0697f4dac474"
      },
      "source": [
        "kf"
      ],
      "execution_count": null,
      "outputs": [
        {
          "output_type": "execute_result",
          "data": {
            "text/plain": [
              "KFold(n_splits=3, random_state=72018, shuffle=True)"
            ]
          },
          "metadata": {
            "tags": []
          },
          "execution_count": 47
        }
      ]
    },
    {
      "cell_type": "markdown",
      "metadata": {
        "id": "L0wabrmkelUA"
      },
      "source": [
        "The function cross_val_predict will use the estimator to pipeline the process of scaling and linear regression as defined in the estimator\n",
        "\n",
        "And it will use k-fold object defined above to make splitting for train and test sets\n"
      ]
    },
    {
      "cell_type": "code",
      "metadata": {
        "ExecuteTime": {
          "end_time": "2019-02-19T17:35:55.255356Z",
          "start_time": "2019-02-19T17:35:55.240376Z"
        },
        "id": "jK--63dLCGJ0"
      },
      "source": [
        "predictions = cross_val_predict(estimator, X, y, cv=kf)"
      ],
      "execution_count": null,
      "outputs": []
    },
    {
      "cell_type": "code",
      "metadata": {
        "colab": {
          "base_uri": "https://localhost:8080/"
        },
        "id": "I-6N6r69z9lI",
        "outputId": "6389d0c3-685b-481c-cc5c-9374da32b312"
      },
      "source": [
        "len(predictions)"
      ],
      "execution_count": null,
      "outputs": [
        {
          "output_type": "execute_result",
          "data": {
            "text/plain": [
              "506"
            ]
          },
          "metadata": {
            "tags": []
          },
          "execution_count": 48
        }
      ]
    },
    {
      "cell_type": "code",
      "metadata": {
        "ExecuteTime": {
          "end_time": "2019-02-19T17:36:03.801732Z",
          "start_time": "2019-02-19T17:36:03.796646Z"
        },
        "scrolled": true,
        "colab": {
          "base_uri": "https://localhost:8080/"
        },
        "id": "8HvQREj4CGJ0",
        "outputId": "3cbe19a1-99d1-49a0-f72c-8309e7c0a9a6"
      },
      "source": [
        "# validate model on values of y and predictions \n",
        "r2_score(y, predictions)"
      ],
      "execution_count": null,
      "outputs": [
        {
          "output_type": "execute_result",
          "data": {
            "text/plain": [
              "0.706353106416156"
            ]
          },
          "metadata": {
            "tags": []
          },
          "execution_count": 44
        }
      ]
    },
    {
      "cell_type": "code",
      "metadata": {
        "ExecuteTime": {
          "end_time": "2019-02-19T17:36:19.831481Z",
          "start_time": "2019-02-19T17:36:19.827131Z"
        },
        "colab": {
          "base_uri": "https://localhost:8080/"
        },
        "id": "7vnnq3SpCGJ1",
        "outputId": "2b2ad5cf-b68f-40b5-dbd1-3b33e555aaf1"
      },
      "source": [
        "np.mean(scores) # almost identical!"
      ],
      "execution_count": null,
      "outputs": [
        {
          "output_type": "execute_result",
          "data": {
            "text/plain": [
              "0.7060392060427615"
            ]
          },
          "metadata": {
            "tags": []
          },
          "execution_count": 45
        }
      ]
    },
    {
      "cell_type": "markdown",
      "metadata": {
        "id": "9Spx7sx3CGJ1"
      },
      "source": [
        "Note that `cross_val_predict` doesn't use the same model for all steps; the predictions for each row are made when that row is in the validation set. We really have the collected results of 3 (i.e. `kf.num_splits`) different models. \n",
        "\n",
        "When we are done, `estimator` is still not fitted. If we want to predict on _new_ data, we still have to train our `estimator`. "
      ]
    },
    {
      "cell_type": "markdown",
      "metadata": {
        "id": "SdH49UArCGJ2"
      },
      "source": [
        "## Hyperparameter tuning"
      ]
    },
    {
      "cell_type": "markdown",
      "metadata": {
        "id": "tb_o2mO7CGJ2"
      },
      "source": [
        "### Definition\n",
        "\n",
        "**Hyperparameter tuning** involves using cross validation (or train-test split) to determine which hyperparameters are most likely to generate a model that _generalizes_ well outside of your sample.\n",
        "\n",
        "### Mechanics\n",
        "\n",
        "We can generate an exponentially spaces range of values using the numpy [`geomspace`](https://docs.scipy.org/doc/numpy/reference/generated/numpy.geomspace.html#numpy.geomspace) function.\n",
        "\n",
        "```python\n",
        "np.geomspace(1, 1000, num=4)\n",
        "```\n",
        "\n",
        "produces:\n",
        "\n",
        "```\n",
        "array([    1.,    10.,   100.,  1000.])\n",
        "```\n",
        "\n",
        "Use this function to generate a list of length 10 called `alphas` for hyperparameter tuning:"
      ]
    },
    {
      "cell_type": "code",
      "metadata": {
        "ExecuteTime": {
          "end_time": "2019-02-19T17:40:36.220744Z",
          "start_time": "2019-02-19T17:40:36.214714Z"
        },
        "id": "wifeVaMwCGJ3",
        "colab": {
          "base_uri": "https://localhost:8080/"
        },
        "outputId": "d926fc39-3016-45e6-f344-58eb3c31e1c7"
      },
      "source": [
        "alphas = np.geomspace(1e-9, 1e0 ,num = 10)\n",
        "alphas"
      ],
      "execution_count": null,
      "outputs": [
        {
          "output_type": "execute_result",
          "data": {
            "text/plain": [
              "array([1.e-09, 1.e-08, 1.e-07, 1.e-06, 1.e-05, 1.e-04, 1.e-03, 1.e-02,\n",
              "       1.e-01, 1.e+00])"
            ]
          },
          "metadata": {
            "tags": []
          },
          "execution_count": 56
        }
      ]
    },
    {
      "cell_type": "markdown",
      "metadata": {
        "id": "cQ31xt_uCGJ3"
      },
      "source": [
        "The code below tunes the `alpha` hyperparameter for Lasso regression.\n",
        "As alpha increases , complexity of lasso model decreases \n",
        "As alpha decreases , complexiity of lasso model increases . "
      ]
    },
    {
      "cell_type": "markdown",
      "metadata": {
        "id": "yasWTM9n-_8B"
      },
      "source": [
        "## Lasso Regressionm "
      ]
    },
    {
      "cell_type": "code",
      "metadata": {
        "ExecuteTime": {
          "end_time": "2019-02-19T17:47:34.947390Z",
          "start_time": "2019-02-19T17:47:34.845011Z"
        },
        "id": "CVNJiQ03CGJ3"
      },
      "source": [
        "scores = []\n",
        "coefs = []\n",
        "# for each value of alpha , we fit a new model \n",
        "for alpha in alphas:\n",
        "    las = Lasso(alpha=alpha, max_iter=100000)\n",
        "    \n",
        "    estimator = Pipeline([\n",
        "        (\"scaler\", s),\n",
        "        (\"lasso_regression\", las)])\n",
        "\n",
        "    predictions = cross_val_predict(estimator, X, y, cv = kf)\n",
        "    \n",
        "    score = r2_score(y, predictions)\n",
        "    \n",
        "    scores.append(score)"
      ],
      "execution_count": null,
      "outputs": []
    },
    {
      "cell_type": "code",
      "metadata": {
        "ExecuteTime": {
          "end_time": "2019-02-19T17:47:35.397285Z",
          "start_time": "2019-02-19T17:47:35.390917Z"
        },
        "id": "uTyFMCWCCGJ5",
        "colab": {
          "base_uri": "https://localhost:8080/"
        },
        "outputId": "6b6fb0bf-0fe4-4138-f2e2-72b3973eb564"
      },
      "source": [
        "list(zip(alphas,scores))"
      ],
      "execution_count": null,
      "outputs": [
        {
          "output_type": "execute_result",
          "data": {
            "text/plain": [
              "[(1e-09, 0.7063531064981925),\n",
              " (1e-08, 0.7063531072356071),\n",
              " (1e-07, 0.7063531145602442),\n",
              " (1e-06, 0.7063531882052063),\n",
              " (1e-05, 0.7063539165191507),\n",
              " (0.0001, 0.706361268093463),\n",
              " (0.001, 0.706433467041546),\n",
              " (0.01, 0.7070865958083233),\n",
              " (0.1, 0.705838151167185),\n",
              " (1.0, 0.6512724532884888)]"
            ]
          },
          "metadata": {
            "tags": []
          },
          "execution_count": 58
        }
      ]
    },
    {
      "cell_type": "code",
      "metadata": {
        "ExecuteTime": {
          "end_time": "2019-02-19T17:48:16.943881Z",
          "start_time": "2019-02-19T17:48:16.937741Z"
        },
        "id": "b1iPn4TNCGJ6",
        "colab": {
          "base_uri": "https://localhost:8080/"
        },
        "outputId": "19ea4779-d771-40d7-c7f4-17ec27922d17"
      },
      "source": [
        "Lasso(alpha=1e-6).fit(X, y).coef_"
      ],
      "execution_count": null,
      "outputs": [
        {
          "output_type": "execute_result",
          "data": {
            "text/plain": [
              "array([-1.07170372e-01,  4.63952623e-02,  2.08588308e-02,  2.68854318e+00,\n",
              "       -1.77954207e+01,  3.80475296e+00,  7.50802707e-04, -1.47575348e+00,\n",
              "        3.05654279e-01, -1.23293755e-02, -9.53459908e-01,  9.39253013e-03,\n",
              "       -5.25467196e-01])"
            ]
          },
          "metadata": {
            "tags": []
          },
          "execution_count": 60
        }
      ]
    },
    {
      "cell_type": "code",
      "metadata": {
        "ExecuteTime": {
          "end_time": "2019-02-19T17:48:40.778026Z",
          "start_time": "2019-02-19T17:48:40.771732Z"
        },
        "id": "Ws4Wx_PUCGJ7",
        "colab": {
          "base_uri": "https://localhost:8080/"
        },
        "outputId": "bbc2f1f9-0878-47b4-f552-1219c8bd3dd9"
      },
      "source": [
        "Lasso(alpha=1.0).fit(X, y).coef_"
      ],
      "execution_count": null,
      "outputs": [
        {
          "output_type": "execute_result",
          "data": {
            "text/plain": [
              "array([-0.06342255,  0.04916867, -0.        ,  0.        , -0.        ,\n",
              "        0.94678567,  0.02092737, -0.66900864,  0.26417501, -0.01520915,\n",
              "       -0.72319901,  0.00829117, -0.76143296])"
            ]
          },
          "metadata": {
            "tags": []
          },
          "execution_count": 61
        }
      ]
    },
    {
      "cell_type": "code",
      "metadata": {
        "ExecuteTime": {
          "end_time": "2019-02-19T17:46:03.208768Z",
          "start_time": "2019-02-19T17:46:02.898338Z"
        },
        "id": "9QskktYGCGJ7",
        "colab": {
          "base_uri": "https://localhost:8080/",
          "height": 392
        },
        "outputId": "a6279a3d-6ef9-4944-b5e7-655eef539499"
      },
      "source": [
        "plt.figure(figsize=(10,6))\n",
        "plt.semilogx(alphas, scores, '-o')\n",
        "plt.xlabel('$\\\\alpha$')\n",
        "plt.ylabel('$R^2$');"
      ],
      "execution_count": null,
      "outputs": [
        {
          "output_type": "display_data",
          "data": {
            "image/png": "[encoded data removed]",
            "text/plain": [
              "<Figure size 720x432 with 1 Axes>"
            ]
          },
          "metadata": {
            "tags": [],
            "needs_background": "light"
          }
        }
      ]
    },
    {
      "cell_type": "markdown",
      "metadata": {
        "id": "wYTMg5M9CGJ8"
      },
      "source": [
        "### Exercise\n",
        "\n",
        "Add `PolynomialFeatures` to this `Pipeline`, and re-run the cross validation with the `PolynomialFeatures` added.\n",
        "\n",
        "**Hint #1:** pipelines process input from first to last. Think about the order that it would make sense to add Polynomial Features to the data in sequence and add them in the appropriate place in the pipeline.\n",
        "Adding the polynomial features is better to be placed before standard scaling so that muliplication and squares values are better \n",
        "\n",
        "**Hint #2:** you should see a significant increase in cross validation accuracy from doing this"
      ]
    },
    {
      "cell_type": "code",
      "metadata": {
        "ExecuteTime": {
          "end_time": "2019-02-19T17:56:02.883875Z",
          "start_time": "2019-02-19T17:56:00.477593Z"
        },
        "id": "2iOzeZ6XCGJ9"
      },
      "source": [
        "pf = PolynomialFeatures(degree=3)\n",
        "\n",
        "scores = []\n",
        "alphas = np.geomspace(0.06, 6.0, 20)\n",
        "for alpha in alphas:\n",
        "    las = Lasso(alpha=alpha, max_iter=100000)\n",
        "    \n",
        "    estimator = Pipeline([\n",
        "         (\"make_higher_degree\", pf),                 \n",
        "        (\"scaler\", s),\n",
        "        (\"lasso_regression\", las)])\n",
        "\n",
        "    predictions = cross_val_predict(estimator, X, y, cv = kf)\n",
        "    \n",
        "    score = r2_score(y, predictions)\n",
        "    \n",
        "    scores.append(score)\n",
        "    "
      ],
      "execution_count": null,
      "outputs": []
    },
    {
      "cell_type": "markdown",
      "metadata": {
        "id": "gca_fBYICGJ-"
      },
      "source": [
        "If you store the results in a list called `scores`, the following will work:"
      ]
    },
    {
      "cell_type": "code",
      "metadata": {
        "colab": {
          "base_uri": "https://localhost:8080/"
        },
        "id": "oOPw_6cP6zn7",
        "outputId": "775fc46d-8a2f-4fbb-9ae5-1c002a6cea96"
      },
      "source": [
        "scores"
      ],
      "execution_count": null,
      "outputs": [
        {
          "output_type": "execute_result",
          "data": {
            "text/plain": [
              "[0.8370717288829701,\n",
              " 0.8326948144310432,\n",
              " 0.8286529559925637,\n",
              " 0.8233523152510991,\n",
              " 0.8167906006184344,\n",
              " 0.810900248915436,\n",
              " 0.8034074560144936,\n",
              " 0.7982062979349632,\n",
              " 0.7905903084402228,\n",
              " 0.7792012048156848,\n",
              " 0.7631274541298403,\n",
              " 0.7436899702283892,\n",
              " 0.7247567692648977,\n",
              " 0.7078517759504638,\n",
              " 0.6868696898940607,\n",
              " 0.6540332780702032,\n",
              " 0.600898452609131,\n",
              " 0.5151125189903576,\n",
              " 0.3773695477866673,\n",
              " 0.15638110822737483]"
            ]
          },
          "metadata": {
            "tags": []
          },
          "execution_count": 65
        }
      ]
    },
    {
      "cell_type": "code",
      "metadata": {
        "ExecuteTime": {
          "end_time": "2019-02-19T17:56:05.154628Z",
          "start_time": "2019-02-19T17:56:04.987932Z"
        },
        "id": "l5ioHsTrCGJ_",
        "colab": {
          "base_uri": "https://localhost:8080/",
          "height": 269
        },
        "outputId": "809ac60a-b49f-42a7-8cc3-4a5ef85026e2"
      },
      "source": [
        "plt.semilogx(alphas, scores);"
      ],
      "execution_count": null,
      "outputs": [
        {
          "output_type": "display_data",
          "data": {
            "image/png": "[encoded data removed]",
            "text/plain": [
              "<Figure size 432x288 with 1 Axes>"
            ]
          },
          "metadata": {
            "tags": [],
            "needs_background": "light"
          }
        }
      ]
    },
    {
      "cell_type": "code",
      "metadata": {
        "ExecuteTime": {
          "end_time": "2019-02-19T17:56:40.051147Z",
          "start_time": "2019-02-19T17:56:40.009641Z"
        },
        "id": "BigU__FbCGJ_",
        "colab": {
          "base_uri": "https://localhost:8080/"
        },
        "outputId": "39b6a870-f11b-4e9f-c66d-e5b59dd634df"
      },
      "source": [
        "# Once we have found the hyperparameter (alpha~1e-2=0.01)\n",
        "# make the model and train it on ALL the data\n",
        "# Then release it into the wild .....\n",
        "best_estimator = Pipeline([\n",
        "                    (\"scaler\", s),\n",
        "                    (\"make_higher_degree\", PolynomialFeatures(degree=2)),\n",
        "                    (\"lasso_regression\", Lasso(alpha=0.03))])\n",
        "\n",
        "best_estimator.fit(X, y)\n",
        "best_estimator.score(X, y)"
      ],
      "execution_count": null,
      "outputs": [
        {
          "output_type": "execute_result",
          "data": {
            "text/plain": [
              "0.9134777735196521"
            ]
          },
          "metadata": {
            "tags": []
          },
          "execution_count": 66
        }
      ]
    },
    {
      "cell_type": "code",
      "metadata": {
        "ExecuteTime": {
          "end_time": "2019-02-19T17:56:51.526585Z",
          "start_time": "2019-02-19T17:56:51.521094Z"
        },
        "id": "4nXsZ5UFCGKA",
        "colab": {
          "base_uri": "https://localhost:8080/"
        },
        "outputId": "9a64dfb4-66f6-41ce-e1b9-2370d0cbdd8b"
      },
      "source": [
        "best_estimator.named_steps[\"lasso_regression\"].coef_"
      ],
      "execution_count": null,
      "outputs": [
        {
          "output_type": "execute_result",
          "data": {
            "text/plain": [
              "array([ 0.00000000e+00, -0.00000000e+00, -0.00000000e+00, -0.00000000e+00,\n",
              "        0.00000000e+00, -1.00309168e+00,  3.32679107e+00, -1.01840878e+00,\n",
              "       -2.56161421e+00,  1.12778302e+00, -1.72266155e+00, -5.37088506e-01,\n",
              "        4.39555878e-01, -3.39542586e+00,  7.22387712e-02,  0.00000000e+00,\n",
              "        0.00000000e+00,  3.53653554e+00, -0.00000000e+00,  3.72285440e-01,\n",
              "        0.00000000e+00,  0.00000000e+00, -5.49528703e-01, -0.00000000e+00,\n",
              "       -0.00000000e+00, -4.05522485e-02,  2.25864611e-01,  1.78508858e-01,\n",
              "        0.00000000e+00,  0.00000000e+00,  0.00000000e+00,  6.50874606e-02,\n",
              "       -0.00000000e+00, -2.07295802e-01, -0.00000000e+00,  3.71781995e-01,\n",
              "        0.00000000e+00, -0.00000000e+00, -5.89531100e-02,  3.47180625e-01,\n",
              "        0.00000000e+00,  9.23666274e-01,  3.48873365e-01,  7.29463442e-02,\n",
              "        0.00000000e+00,  0.00000000e+00,  7.68485586e-02, -7.21083596e-01,\n",
              "        0.00000000e+00, -5.98542558e-01,  4.18420677e-01, -7.98165728e-01,\n",
              "       -7.25062683e-01,  2.34818861e-01, -0.00000000e+00, -0.00000000e+00,\n",
              "        0.00000000e+00, -1.68164447e-02,  0.00000000e+00, -4.04477826e-01,\n",
              "       -4.22989874e-01, -4.06983988e-01, -3.75443720e-01,  4.17684564e-01,\n",
              "       -8.91841193e-01,  0.00000000e+00, -2.69309481e-01,  0.00000000e+00,\n",
              "        1.02286785e-01,  2.02570379e-01, -6.88345376e-01, -0.00000000e+00,\n",
              "       -1.08598703e+00, -3.98751731e-01, -9.37684760e-01, -1.17343147e-01,\n",
              "       -7.37427594e-01,  0.00000000e+00,  0.00000000e+00,  1.36340670e+00,\n",
              "       -0.00000000e+00, -2.94691228e-03, -8.98125013e-01, -8.68198373e-01,\n",
              "        8.03396788e-01, -1.91683803e-01, -1.14706070e-01,  0.00000000e+00,\n",
              "       -0.00000000e+00,  5.83161589e-01, -0.00000000e+00,  5.81365491e-02,\n",
              "        0.00000000e+00, -2.32896159e-01, -1.12440837e+00,  0.00000000e+00,\n",
              "        1.96286997e+00, -0.00000000e+00, -1.00915801e+00, -7.04656486e-02,\n",
              "       -1.06456357e-02, -4.78389591e-02, -3.97645601e-01, -3.84121840e-01,\n",
              "        9.97402419e-01])"
            ]
          },
          "metadata": {
            "tags": []
          },
          "execution_count": 67
        }
      ]
    },
    {
      "cell_type": "markdown",
      "metadata": {
        "id": "gtkyR6xT-Hts"
      },
      "source": [
        "In the coefficients above , you can see how generalizing our model gave us less coefficients and this will help to generalize to new incoming data .  "
      ]
    },
    {
      "cell_type": "markdown",
      "metadata": {
        "id": "nYy2Fkw_-zkQ"
      },
      "source": [
        "## Ridge Regression "
      ]
    },
    {
      "cell_type": "markdown",
      "metadata": {
        "id": "RtfOlZnzCGKB"
      },
      "source": [
        "### Exercise\n",
        "\n",
        "Do the same, but with `Ridge` regression \n",
        "\n",
        "Which model, `Ridge` or `Lasso`, performs best with its optimal hyperparameters on the Boston dataset?"
      ]
    },
    {
      "cell_type": "code",
      "metadata": {
        "ExecuteTime": {
          "end_time": "2019-02-19T17:59:17.634414Z",
          "start_time": "2019-02-19T17:59:17.238684Z"
        },
        "id": "lVzAD2E_CGKB",
        "colab": {
          "base_uri": "https://localhost:8080/",
          "height": 282
        },
        "outputId": "55c8aa88-4d8e-4b91-9090-c240d95346fa"
      },
      "source": [
        "pf = PolynomialFeatures(degree=2)\n",
        "alphas = np.geomspace(0.1, 2, 20)\n",
        "scores=[]\n",
        "for alpha in alphas:\n",
        "    ridge = Ridge(alpha=alpha, max_iter=100000)\n",
        "\n",
        "    estimator = Pipeline([\n",
        "        (\"polynomial_features\", pf),\n",
        "        (\"scaler\", s),\n",
        "        \n",
        "        (\"ridge_regression\", ridge)])\n",
        "\n",
        "    predictions = cross_val_predict(estimator, X, y, cv = kf)\n",
        "    score = r2_score(y, predictions)\n",
        "    scores.append(score)\n",
        "\n",
        "plt.plot(alphas, scores)"
      ],
      "execution_count": null,
      "outputs": [
        {
          "output_type": "execute_result",
          "data": {
            "text/plain": [
              "[<matplotlib.lines.Line2D at 0x7f927f1ea470>]"
            ]
          },
          "metadata": {
            "tags": []
          },
          "execution_count": 71
        },
        {
          "output_type": "display_data",
          "data": {
            "image/png": "[encoded data removed]",
            "text/plain": [
              "<Figure size 432x288 with 1 Axes>"
            ]
          },
          "metadata": {
            "tags": [],
            "needs_background": "light"
          }
        }
      ]
    },
    {
      "cell_type": "markdown",
      "metadata": {
        "id": "Jd5Fhrf9CGKC"
      },
      "source": [
        "**Conclusion:** Both Lasso and Ridge with proper hyperparameter tuning give better results than plain ol' Linear Regression!"
      ]
    },
    {
      "cell_type": "markdown",
      "metadata": {
        "id": "MRrUiURG_mf6"
      },
      "source": [
        "## Interpretability "
      ]
    },
    {
      "cell_type": "markdown",
      "metadata": {
        "id": "Cblr9zGOCGKD"
      },
      "source": [
        "### Exercise:"
      ]
    },
    {
      "cell_type": "markdown",
      "metadata": {
        "id": "55wjAIAaCGKD"
      },
      "source": [
        "Now, for whatever your best overall hyperparameter was: \n",
        "\n",
        "* Standardize the data\n",
        "* Fit and predict on the entire dataset\n",
        "* See what the largest coefficients were\n",
        "    * Hint: use \n",
        "    ```python\n",
        "    dict(zip(model.coef_, pf.get_feature_names()))\n",
        "    ```\n",
        "    for your model `model` to get the feature names from `PolynomialFeatures`.\n",
        "    \n",
        "    Then, use\n",
        "    ```python\n",
        "    dict(zip(list(range(len(X.columns.values))), X.columns.values))\n",
        "    ```\n",
        "    \n",
        "    to see which features in the `PolynomialFeatures` DataFrame correspond to which columns in the original DataFrame.\n"
      ]
    },
    {
      "cell_type": "code",
      "metadata": {
        "ExecuteTime": {
          "end_time": "2019-02-19T17:56:40.051147Z",
          "start_time": "2019-02-19T17:56:40.009641Z"
        },
        "id": "895KC7a5CGKD",
        "colab": {
          "base_uri": "https://localhost:8080/"
        },
        "outputId": "bd3a8d4f-8fdc-4882-ce6d-129eb492547a"
      },
      "source": [
        "# Once we have found the hyperparameter (alpha~1e-2=0.01)\n",
        "# make the model and train it on ALL the data\n",
        "# Then release it into the wild .....\n",
        "best_estimator = Pipeline([ (\"make_higher_degree\", PolynomialFeatures(degree=2)),\n",
        "                    (\"scaler\", s),\n",
        "                   \n",
        "                    (\"lasso_regression\", Lasso(alpha=0.03))])\n",
        "\n",
        "best_estimator.fit(X, y)\n",
        "best_estimator.score(X, y)"
      ],
      "execution_count": null,
      "outputs": [
        {
          "output_type": "stream",
          "text": [
            "/usr/local/lib/python3.6/dist-packages/sklearn/linear_model/_coordinate_descent.py:476: ConvergenceWarning: Objective did not converge. You might want to increase the number of iterations. Duality gap: 265.49820369624604, tolerance: 4.2716295415019765\n",
            "  positive)\n"
          ],
          "name": "stderr"
        },
        {
          "output_type": "execute_result",
          "data": {
            "text/plain": [
              "0.8814581025430906"
            ]
          },
          "metadata": {
            "tags": []
          },
          "execution_count": 72
        }
      ]
    },
    {
      "cell_type": "markdown",
      "metadata": {
        "id": "Ud1-sRCiET15"
      },
      "source": [
        "We want to zip values of column names and coeficients learnt from the model to see what values are contributing to the target . "
      ]
    },
    {
      "cell_type": "code",
      "metadata": {
        "ExecuteTime": {
          "end_time": "2019-02-19T17:56:51.526585Z",
          "start_time": "2019-02-19T17:56:51.521094Z"
        },
        "id": "MK_6cJNPCGKF"
      },
      "source": [
        "df_importances = pd.DataFrame(zip(best_estimator.named_steps[\"make_higher_degree\"].get_feature_names(input_features = X.columns),\n",
        "                 best_estimator.named_steps[\"lasso_regression\"].coef_,\n",
        "))"
      ],
      "execution_count": null,
      "outputs": []
    },
    {
      "cell_type": "code",
      "metadata": {
        "id": "CVANuS-oCGKF"
      },
      "source": [
        "col_names_dict = dict(zip(list(range(len(X.columns.values))), X.columns.values))"
      ],
      "execution_count": null,
      "outputs": []
    },
    {
      "cell_type": "code",
      "metadata": {
        "id": "S2wmuu6lCGKG",
        "colab": {
          "base_uri": "https://localhost:8080/"
        },
        "outputId": "0ecf4082-a9f2-4981-9801-c0cec1069676"
      },
      "source": [
        "col_names_dict"
      ],
      "execution_count": null,
      "outputs": [
        {
          "output_type": "execute_result",
          "data": {
            "text/plain": [
              "{0: 'CRIM',\n",
              " 1: 'ZN',\n",
              " 2: 'INDUS',\n",
              " 3: 'CHAS',\n",
              " 4: 'NOX',\n",
              " 5: 'RM',\n",
              " 6: 'AGE',\n",
              " 7: 'DIS',\n",
              " 8: 'RAD',\n",
              " 9: 'TAX',\n",
              " 10: 'PTRATIO',\n",
              " 11: 'B',\n",
              " 12: 'LSTAT'}"
            ]
          },
          "metadata": {
            "tags": []
          },
          "execution_count": 83
        }
      ]
    },
    {
      "cell_type": "code",
      "metadata": {
        "id": "bDa5fbZ4CGKG",
        "colab": {
          "base_uri": "https://localhost:8080/",
          "height": 419
        },
        "outputId": "88328295-aac7-4433-feaa-532f22afa505"
      },
      "source": [
        "df_importances.sort_values(by=1)"
      ],
      "execution_count": null,
      "outputs": [
        {
          "output_type": "execute_result",
          "data": {
            "text/html": [
              "<div>\n",
              "<style scoped>\n",
              "    .dataframe tbody tr th:only-of-type {\n",
              "        vertical-align: middle;\n",
              "    }\n",
              "\n",
              "    .dataframe tbody tr th {\n",
              "        vertical-align: top;\n",
              "    }\n",
              "\n",
              "    .dataframe thead th {\n",
              "        text-align: right;\n",
              "    }\n",
              "</style>\n",
              "<table border=\"1\" class=\"dataframe\">\n",
              "  <thead>\n",
              "    <tr style=\"text-align: right;\">\n",
              "      <th></th>\n",
              "      <th>0</th>\n",
              "      <th>1</th>\n",
              "    </tr>\n",
              "  </thead>\n",
              "  <tbody>\n",
              "    <tr>\n",
              "      <th>73</th>\n",
              "      <td>RM TAX</td>\n",
              "      <td>-4.934846</td>\n",
              "    </tr>\n",
              "    <tr>\n",
              "      <th>76</th>\n",
              "      <td>RM LSTAT</td>\n",
              "      <td>-3.936603</td>\n",
              "    </tr>\n",
              "    <tr>\n",
              "      <th>94</th>\n",
              "      <td>RAD LSTAT</td>\n",
              "      <td>-3.167028</td>\n",
              "    </tr>\n",
              "    <tr>\n",
              "      <th>8</th>\n",
              "      <td>DIS</td>\n",
              "      <td>-2.914693</td>\n",
              "    </tr>\n",
              "    <tr>\n",
              "      <th>49</th>\n",
              "      <td>INDUS LSTAT</td>\n",
              "      <td>-2.536566</td>\n",
              "    </tr>\n",
              "    <tr>\n",
              "      <th>...</th>\n",
              "      <td>...</td>\n",
              "      <td>...</td>\n",
              "    </tr>\n",
              "    <tr>\n",
              "      <th>17</th>\n",
              "      <td>CRIM CHAS</td>\n",
              "      <td>2.108712</td>\n",
              "    </tr>\n",
              "    <tr>\n",
              "      <th>96</th>\n",
              "      <td>TAX PTRATIO</td>\n",
              "      <td>2.381174</td>\n",
              "    </tr>\n",
              "    <tr>\n",
              "      <th>9</th>\n",
              "      <td>RAD</td>\n",
              "      <td>3.900466</td>\n",
              "    </tr>\n",
              "    <tr>\n",
              "      <th>104</th>\n",
              "      <td>LSTAT^2</td>\n",
              "      <td>4.856117</td>\n",
              "    </tr>\n",
              "    <tr>\n",
              "      <th>69</th>\n",
              "      <td>RM^2</td>\n",
              "      <td>7.867722</td>\n",
              "    </tr>\n",
              "  </tbody>\n",
              "</table>\n",
              "<p>105 rows × 2 columns</p>\n",
              "</div>"
            ],
            "text/plain": [
              "               0         1\n",
              "73        RM TAX -4.934846\n",
              "76      RM LSTAT -3.936603\n",
              "94     RAD LSTAT -3.167028\n",
              "8            DIS -2.914693\n",
              "49   INDUS LSTAT -2.536566\n",
              "..           ...       ...\n",
              "17     CRIM CHAS  2.108712\n",
              "96   TAX PTRATIO  2.381174\n",
              "9            RAD  3.900466\n",
              "104      LSTAT^2  4.856117\n",
              "69          RM^2  7.867722\n",
              "\n",
              "[105 rows x 2 columns]"
            ]
          },
          "metadata": {
            "tags": []
          },
          "execution_count": 84
        }
      ]
    },
    {
      "cell_type": "markdown",
      "metadata": {
        "id": "-I-Km4_hCGKG"
      },
      "source": [
        "## Grid Search CV"
      ]
    },
    {
      "cell_type": "markdown",
      "metadata": {
        "id": "N7MH5vs5CGKH"
      },
      "source": [
        "To do cross-validation, we used two techniques:\n",
        "- use `KFolds` and manually create a loop to do cross-validation\n",
        "- use `cross_val_predict` and `score` to get a cross-valiated score in a couple of lines.\n",
        "\n",
        "To do hyper-parameter tuning, we see a general pattern:\n",
        "- use `cross_val_predict` and `score` in a manually written loop over hyperparemeters, then select the best one.\n",
        "\n",
        "Perhaps not surprisingly, there is a function that does this for us -- `GridSearchCV`"
      ]
    },
    {
      "cell_type": "code",
      "metadata": {
        "ExecuteTime": {
          "end_time": "2019-02-19T18:02:31.945804Z",
          "start_time": "2019-02-19T18:02:31.938416Z"
        },
        "id": "yE86A6y7CGKH"
      },
      "source": [
        "from sklearn.model_selection import GridSearchCV\n",
        "\n",
        "# Same estimator as before\n",
        "estimator = Pipeline([  (\"polynomial_features\", PolynomialFeatures()),\n",
        "                      (\"scaler\", StandardScaler()),\n",
        "                      (\"ridge_regression\", Ridge())])\n",
        "\n",
        "params = {\n",
        "    'polynomial_features__degree': [1, 2, 3],\n",
        "    'ridge_regression__alpha': np.geomspace(4, 20, 30)\n",
        "}\n",
        "\n",
        "grid = GridSearchCV(estimator, params, cv=kf)"
      ],
      "execution_count": null,
      "outputs": []
    },
    {
      "cell_type": "code",
      "metadata": {
        "ExecuteTime": {
          "end_time": "2019-02-19T18:02:49.319148Z",
          "start_time": "2019-02-19T18:02:46.093880Z"
        },
        "id": "rMqwe0vNCGKI",
        "colab": {
          "base_uri": "https://localhost:8080/"
        },
        "outputId": "dbc9bbd7-645e-4105-c7ae-427aa73f2f5c"
      },
      "source": [
        "grid.fit(X, y)"
      ],
      "execution_count": null,
      "outputs": [
        {
          "output_type": "execute_result",
          "data": {
            "text/plain": [
              "GridSearchCV(cv=KFold(n_splits=3, random_state=72018, shuffle=True),\n",
              "             error_score=nan,\n",
              "             estimator=Pipeline(memory=None,\n",
              "                                steps=[('polynomial_features',\n",
              "                                        PolynomialFeatures(degree=2,\n",
              "                                                           include_bias=True,\n",
              "                                                           interaction_only=False,\n",
              "                                                           order='C')),\n",
              "                                       ('scaler',\n",
              "                                        StandardScaler(copy=True,\n",
              "                                                       with_mean=True,\n",
              "                                                       with_std=True)),\n",
              "                                       ('ridge_regression',\n",
              "                                        Ridge(alpha=1.0, copy_X=True,\n",
              "                                              fit_intercep...\n",
              "        5.27924796,  5.58051751,  5.89897953,  6.23561514,  6.59146146,\n",
              "        6.96761476,  7.36523392,  7.78554391,  8.22983963,  8.69948987,\n",
              "        9.19594151,  9.72072404, 10.27545421, 10.86184103, 11.48169104,\n",
              "       12.13691388, 12.82952815, 13.56166768, 14.33558803, 15.15367351,\n",
              "       16.01844446, 16.93256509, 17.89885162, 18.92028098, 20.        ])},\n",
              "             pre_dispatch='2*n_jobs', refit=True, return_train_score=False,\n",
              "             scoring=None, verbose=0)"
            ]
          },
          "metadata": {
            "tags": []
          },
          "execution_count": 86
        }
      ]
    },
    {
      "cell_type": "code",
      "metadata": {
        "ExecuteTime": {
          "end_time": "2019-02-19T18:03:07.016198Z",
          "start_time": "2019-02-19T18:03:07.010215Z"
        },
        "id": "zAj4ZGPZCGKI",
        "colab": {
          "base_uri": "https://localhost:8080/"
        },
        "outputId": "7eb59cf9-e561-439a-eada-58122e3f7535"
      },
      "source": [
        "grid.best_score_, grid.best_params_"
      ],
      "execution_count": null,
      "outputs": [
        {
          "output_type": "execute_result",
          "data": {
            "text/plain": [
              "(0.8546333782070428,\n",
              " {'polynomial_features__degree': 2, 'ridge_regression__alpha': 4.0})"
            ]
          },
          "metadata": {
            "tags": []
          },
          "execution_count": 87
        }
      ]
    },
    {
      "cell_type": "code",
      "metadata": {
        "ExecuteTime": {
          "end_time": "2019-02-19T18:03:31.735568Z",
          "start_time": "2019-02-19T18:03:31.728658Z"
        },
        "id": "b_5E5cMXCGKJ"
      },
      "source": [
        "y_predict = grid.predict(X)"
      ],
      "execution_count": null,
      "outputs": []
    },
    {
      "cell_type": "code",
      "metadata": {
        "ExecuteTime": {
          "end_time": "2019-02-19T18:04:17.838943Z",
          "start_time": "2019-02-19T18:04:17.832872Z"
        },
        "id": "DF9ST7woCGKJ",
        "colab": {
          "base_uri": "https://localhost:8080/"
        },
        "outputId": "b18b8f9f-ab03-45e8-88a2-04d2eb1ba3a6"
      },
      "source": [
        "# This includes both in-sample and out-of-sample\n",
        "r2_score(y, y_predict)"
      ],
      "execution_count": null,
      "outputs": [
        {
          "output_type": "execute_result",
          "data": {
            "text/plain": [
              "0.8964707714558113"
            ]
          },
          "metadata": {
            "tags": []
          },
          "execution_count": 89
        }
      ]
    },
    {
      "cell_type": "code",
      "metadata": {
        "ExecuteTime": {
          "end_time": "2019-02-19T18:04:27.088854Z",
          "start_time": "2019-02-19T18:04:27.082915Z"
        },
        "id": "LNxDJ0bJCGKK",
        "colab": {
          "base_uri": "https://localhost:8080/"
        },
        "outputId": "1d93f3c9-8e21-4ad5-9726-f26e14ab2306"
      },
      "source": [
        "# Notice that \"grid\" is a fit object!\n",
        "# We can use grid.predict(X_test) to get brand new predictions!\n",
        "grid.best_estimator_.named_steps['ridge_regression'].coef_"
      ],
      "execution_count": null,
      "outputs": [
        {
          "output_type": "execute_result",
          "data": {
            "text/plain": [
              "array([ 0.00000000e+00,  2.47147038e-01, -1.18377806e+00,  1.11700133e+00,\n",
              "        1.02268931e+00,  1.11573592e+00,  2.63515343e+00,  1.60400844e+00,\n",
              "       -2.44378403e+00,  2.67549673e+00,  1.18120641e+00,  3.00931414e-01,\n",
              "        7.17164316e-01,  5.46697603e-01,  1.16368605e+00,  2.78583120e-01,\n",
              "        4.15770986e-01,  2.45396270e+00, -1.07012228e+00, -8.15812777e-01,\n",
              "       -2.95036466e-01, -8.26480829e-01, -4.23552596e-01, -4.33022591e-02,\n",
              "        8.34930099e-02, -4.92838202e-01,  5.12447325e-01,  5.88355149e-01,\n",
              "       -3.50662224e-01, -1.39184102e-01, -2.99737738e-01,  1.02696466e+00,\n",
              "        1.47705864e-02, -6.87593891e-01, -3.12176710e-01,  1.26476807e+00,\n",
              "        1.01258007e+00, -5.51925730e-01, -8.62269698e-01,  8.78832853e-01,\n",
              "        6.75975245e-02,  5.91362874e-01, -1.45086000e+00,  1.09286634e+00,\n",
              "       -7.69112663e-01,  1.16978387e+00,  1.29460196e+00, -7.36888615e-01,\n",
              "        7.29205860e-01, -2.44086792e+00,  1.02268931e+00, -2.26162754e+00,\n",
              "       -2.56091292e+00,  7.93445821e-01,  8.93650928e-01, -1.40176885e+00,\n",
              "       -5.90308431e-01,  6.48531603e-01,  1.51647270e+00, -6.34275596e-01,\n",
              "       -2.70133478e-01, -1.21405240e+00, -7.39233780e-01, -1.08452081e+00,\n",
              "       -5.78990020e-01, -7.37795974e-01, -1.12672094e+00,  2.99935516e-01,\n",
              "        2.82902653e-01,  5.69116051e+00, -1.25149671e+00,  4.71964702e-01,\n",
              "       -2.26642600e+00, -3.64722981e+00, -2.98653723e+00,  1.61479424e+00,\n",
              "       -3.45481774e+00,  1.74801027e-01,  1.85117505e-05,  1.67217459e+00,\n",
              "        2.86547168e-01, -7.33885392e-02, -1.23850226e+00, -1.78673478e+00,\n",
              "        2.25040443e+00,  4.28050229e-01, -1.14432376e+00,  1.09490308e-01,\n",
              "       -1.11626912e+00,  1.53508126e+00, -6.30486265e-01,  6.70247233e-01,\n",
              "        2.24813158e+00,  3.12190879e-01, -2.71959257e+00,  2.18644985e-02,\n",
              "        1.81340123e+00, -6.61376315e-02, -2.14156164e+00,  8.38822098e-01,\n",
              "        3.11177198e-01,  2.69570504e-01, -6.64708129e-01, -1.41443974e+00,\n",
              "        4.63455327e+00])"
            ]
          },
          "metadata": {
            "tags": []
          },
          "execution_count": 90
        }
      ]
    },
    {
      "cell_type": "code",
      "metadata": {
        "ExecuteTime": {
          "end_time": "2019-02-19T18:05:34.756588Z",
          "start_time": "2019-02-19T18:05:34.728508Z"
        },
        "id": "Dpy6WYElCGKL",
        "colab": {
          "base_uri": "https://localhost:8080/"
        },
        "outputId": "1d422ef5-f5e2-48b3-df24-16ea04f03034"
      },
      "source": [
        "grid.cv_results_"
      ],
      "execution_count": null,
      "outputs": [
        {
          "output_type": "execute_result",
          "data": {
            "text/plain": [
              "{'mean_fit_time': array([0.00506695, 0.00291546, 0.00365591, 0.00297983, 0.00300916,\n",
              "        0.00292937, 0.00304977, 0.00303372, 0.00373578, 0.00312908,\n",
              "        0.00307186, 0.00314458, 0.00302219, 0.00335113, 0.00305176,\n",
              "        0.0028708 , 0.00292794, 0.00287437, 0.00286301, 0.00280865,\n",
              "        0.0031147 , 0.00333699, 0.0028491 , 0.00295885, 0.00353654,\n",
              "        0.00311009, 0.00297435, 0.00316787, 0.00359678, 0.00300558,\n",
              "        0.01417406, 0.00873415, 0.00623107, 0.0057416 , 0.00641966,\n",
              "        0.00569614, 0.00652893, 0.00604105, 0.00633089, 0.00612736,\n",
              "        0.00582377, 0.00628352, 0.01526682, 0.01500924, 0.01705432,\n",
              "        0.00570353, 0.00625523, 0.00575288, 0.00627844, 0.00770903,\n",
              "        0.01480071, 0.01595521, 0.01729608, 0.0137337 , 0.01383408,\n",
              "        0.01584355, 0.01415785, 0.0150106 , 0.0165019 , 0.01583687,\n",
              "        0.03043906, 0.01596967, 0.02650038, 0.03055422, 0.01483655,\n",
              "        0.01532674, 0.02176714, 0.01539723, 0.03232733, 0.03400771,\n",
              "        0.02322634, 0.02159484, 0.03488715, 0.016711  , 0.01484998,\n",
              "        0.01621167, 0.02412573, 0.01633406, 0.01506511, 0.01618838,\n",
              "        0.02325312, 0.01557875, 0.01585039, 0.01579841, 0.01610963,\n",
              "        0.02202074, 0.02036071, 0.01653544, 0.01532618, 0.01515309]),\n",
              " 'mean_score_time': array([0.00144943, 0.00203911, 0.00138799, 0.00128039, 0.00128404,\n",
              "        0.0012571 , 0.0013636 , 0.00127697, 0.00136956, 0.00130582,\n",
              "        0.00127721, 0.00127912, 0.00127443, 0.00129596, 0.00126759,\n",
              "        0.00127983, 0.0012881 , 0.00131989, 0.00121133, 0.00122348,\n",
              "        0.00125217, 0.00141303, 0.00125893, 0.00133379, 0.00137742,\n",
              "        0.0013051 , 0.00126831, 0.00127745, 0.00135501, 0.00129207,\n",
              "        0.0029935 , 0.00231632, 0.00234969, 0.00213393, 0.00224868,\n",
              "        0.00215101, 0.00239197, 0.00235637, 0.00234326, 0.00219019,\n",
              "        0.00214171, 0.00233674, 0.00564535, 0.00241232, 0.00231473,\n",
              "        0.00206248, 0.00234858, 0.00216913, 0.0022587 , 0.00310938,\n",
              "        0.00483545, 0.00429805, 0.00299803, 0.00439437, 0.00456023,\n",
              "        0.00320959, 0.00442425, 0.00419037, 0.00233189, 0.00232283,\n",
              "        0.00456905, 0.00353273, 0.00588163, 0.00526913, 0.00338968,\n",
              "        0.003304  , 0.00541679, 0.0036811 , 0.00760468, 0.0074985 ,\n",
              "        0.00470908, 0.00508261, 0.00596404, 0.00335097, 0.00343227,\n",
              "        0.00362587, 0.00543125, 0.00348584, 0.003256  , 0.00426785,\n",
              "        0.00434446, 0.0035433 , 0.00343585, 0.0034376 , 0.00380651,\n",
              "        0.00564218, 0.00333118, 0.00345286, 0.00337593, 0.00434152]),\n",
              " 'mean_test_score': array([0.70738225, 0.70743203, 0.70748221, 0.70753263, 0.7075831 ,\n",
              "        0.70763342, 0.70768336, 0.70773267, 0.70778109, 0.7078283 ,\n",
              "        0.70787399, 0.7079178 , 0.70795937, 0.70799827, 0.70803407,\n",
              "        0.70806631, 0.70809447, 0.70811803, 0.70813641, 0.70814901,\n",
              "        0.70815518, 0.70815424, 0.70814547, 0.7081281 , 0.70810131,\n",
              "        0.70806425, 0.70801602, 0.70795565, 0.70788212, 0.70779435,\n",
              "        0.85463338, 0.85402228, 0.85337547, 0.8526916 , 0.85196933,\n",
              "        0.85120735, 0.85040437, 0.84955913, 0.84867045, 0.84773721,\n",
              "        0.8467584 , 0.84573311, 0.84466054, 0.84354006, 0.84237118,\n",
              "        0.84115359, 0.83988717, 0.83857198, 0.8372083 , 0.83579661,\n",
              "        0.83433764, 0.83283231, 0.83128176, 0.82968737, 0.82805071,\n",
              "        0.82637357, 0.8246579 , 0.82290586, 0.82111975, 0.819302  ,\n",
              "        0.84906608, 0.84951082, 0.84992565, 0.85031073, 0.85066626,\n",
              "        0.85099245, 0.85128955, 0.85155781, 0.8517975 , 0.85200889,\n",
              "        0.85219227, 0.85234791, 0.85247611, 0.85257713, 0.85265124,\n",
              "        0.85269869, 0.85271973, 0.85271455, 0.85268334, 0.85262627,\n",
              "        0.85254345, 0.85243497, 0.85230087, 0.85214116, 0.85195578,\n",
              "        0.85174463, 0.85150758, 0.85124439, 0.85095482, 0.85063853]),\n",
              " 'param_polynomial_features__degree': masked_array(data=[1, 1, 1, 1, 1, 1, 1, 1, 1, 1, 1, 1, 1, 1, 1, 1, 1, 1,\n",
              "                    1, 1, 1, 1, 1, 1, 1, 1, 1, 1, 1, 1, 2, 2, 2, 2, 2, 2,\n",
              "                    2, 2, 2, 2, 2, 2, 2, 2, 2, 2, 2, 2, 2, 2, 2, 2, 2, 2,\n",
              "                    2, 2, 2, 2, 2, 2, 3, 3, 3, 3, 3, 3, 3, 3, 3, 3, 3, 3,\n",
              "                    3, 3, 3, 3, 3, 3, 3, 3, 3, 3, 3, 3, 3, 3, 3, 3, 3, 3],\n",
              "              mask=[False, False, False, False, False, False, False, False,\n",
              "                    False, False, False, False, False, False, False, False,\n",
              "                    False, False, False, False, False, False, False, False,\n",
              "                    False, False, False, False, False, False, False, False,\n",
              "                    False, False, False, False, False, False, False, False,\n",
              "                    False, False, False, False, False, False, False, False,\n",
              "                    False, False, False, False, False, False, False, False,\n",
              "                    False, False, False, False, False, False, False, False,\n",
              "                    False, False, False, False, False, False, False, False,\n",
              "                    False, False, False, False, False, False, False, False,\n",
              "                    False, False, False, False, False, False, False, False,\n",
              "                    False, False],\n",
              "        fill_value='?',\n",
              "             dtype=object),\n",
              " 'param_ridge_regression__alpha': masked_array(data=[4.0, 4.228267015769416, 4.4695604891609,\n",
              "                    4.724623797826311, 4.994242741567055,\n",
              "                    5.279247963228449, 5.58051750774668, 5.898979527232258,\n",
              "                    6.235615140423803, 6.591461455321584,\n",
              "                    6.9676147643129305, 7.365233921633089,\n",
              "                    7.785543913566802, 8.229839632389709,\n",
              "                    8.699489865676323, 9.195941513264877,\n",
              "                    9.720724044870641, 10.275454212080797,\n",
              "                    10.861841029247536, 11.481691038624568,\n",
              "                    12.136913875967887, 12.82952815374728,\n",
              "                    13.561667680093686, 14.335588032641558,\n",
              "                    15.153673507519274, 16.018444464895637,\n",
              "                    16.932565093713098, 17.898851619528912,\n",
              "                    18.920280980751272, 20.000000000000004, 4.0,\n",
              "                    4.228267015769416, 4.4695604891609, 4.724623797826311,\n",
              "                    4.994242741567055, 5.279247963228449, 5.58051750774668,\n",
              "                    5.898979527232258, 6.235615140423803,\n",
              "                    6.591461455321584, 6.9676147643129305,\n",
              "                    7.365233921633089, 7.785543913566802,\n",
              "                    8.229839632389709, 8.699489865676323,\n",
              "                    9.195941513264877, 9.720724044870641,\n",
              "                    10.275454212080797, 10.861841029247536,\n",
              "                    11.481691038624568, 12.136913875967887,\n",
              "                    12.82952815374728, 13.561667680093686,\n",
              "                    14.335588032641558, 15.153673507519274,\n",
              "                    16.018444464895637, 16.932565093713098,\n",
              "                    17.898851619528912, 18.920280980751272,\n",
              "                    20.000000000000004, 4.0, 4.228267015769416,\n",
              "                    4.4695604891609, 4.724623797826311, 4.994242741567055,\n",
              "                    5.279247963228449, 5.58051750774668, 5.898979527232258,\n",
              "                    6.235615140423803, 6.591461455321584,\n",
              "                    6.9676147643129305, 7.365233921633089,\n",
              "                    7.785543913566802, 8.229839632389709,\n",
              "                    8.699489865676323, 9.195941513264877,\n",
              "                    9.720724044870641, 10.275454212080797,\n",
              "                    10.861841029247536, 11.481691038624568,\n",
              "                    12.136913875967887, 12.82952815374728,\n",
              "                    13.561667680093686, 14.335588032641558,\n",
              "                    15.153673507519274, 16.018444464895637,\n",
              "                    16.932565093713098, 17.898851619528912,\n",
              "                    18.920280980751272, 20.000000000000004],\n",
              "              mask=[False, False, False, False, False, False, False, False,\n",
              "                    False, False, False, False, False, False, False, False,\n",
              "                    False, False, False, False, False, False, False, False,\n",
              "                    False, False, False, False, False, False, False, False,\n",
              "                    False, False, False, False, False, False, False, False,\n",
              "                    False, False, False, False, False, False, False, False,\n",
              "                    False, False, False, False, False, False, False, False,\n",
              "                    False, False, False, False, False, False, False, False,\n",
              "                    False, False, False, False, False, False, False, False,\n",
              "                    False, False, False, False, False, False, False, False,\n",
              "                    False, False, False, False, False, False, False, False,\n",
              "                    False, False],\n",
              "        fill_value='?',\n",
              "             dtype=object),\n",
              " 'params': [{'polynomial_features__degree': 1, 'ridge_regression__alpha': 4.0},\n",
              "  {'polynomial_features__degree': 1,\n",
              "   'ridge_regression__alpha': 4.228267015769416},\n",
              "  {'polynomial_features__degree': 1,\n",
              "   'ridge_regression__alpha': 4.4695604891609},\n",
              "  {'polynomial_features__degree': 1,\n",
              "   'ridge_regression__alpha': 4.724623797826311},\n",
              "  {'polynomial_features__degree': 1,\n",
              "   'ridge_regression__alpha': 4.994242741567055},\n",
              "  {'polynomial_features__degree': 1,\n",
              "   'ridge_regression__alpha': 5.279247963228449},\n",
              "  {'polynomial_features__degree': 1,\n",
              "   'ridge_regression__alpha': 5.58051750774668},\n",
              "  {'polynomial_features__degree': 1,\n",
              "   'ridge_regression__alpha': 5.898979527232258},\n",
              "  {'polynomial_features__degree': 1,\n",
              "   'ridge_regression__alpha': 6.235615140423803},\n",
              "  {'polynomial_features__degree': 1,\n",
              "   'ridge_regression__alpha': 6.591461455321584},\n",
              "  {'polynomial_features__degree': 1,\n",
              "   'ridge_regression__alpha': 6.9676147643129305},\n",
              "  {'polynomial_features__degree': 1,\n",
              "   'ridge_regression__alpha': 7.365233921633089},\n",
              "  {'polynomial_features__degree': 1,\n",
              "   'ridge_regression__alpha': 7.785543913566802},\n",
              "  {'polynomial_features__degree': 1,\n",
              "   'ridge_regression__alpha': 8.229839632389709},\n",
              "  {'polynomial_features__degree': 1,\n",
              "   'ridge_regression__alpha': 8.699489865676323},\n",
              "  {'polynomial_features__degree': 1,\n",
              "   'ridge_regression__alpha': 9.195941513264877},\n",
              "  {'polynomial_features__degree': 1,\n",
              "   'ridge_regression__alpha': 9.720724044870641},\n",
              "  {'polynomial_features__degree': 1,\n",
              "   'ridge_regression__alpha': 10.275454212080797},\n",
              "  {'polynomial_features__degree': 1,\n",
              "   'ridge_regression__alpha': 10.861841029247536},\n",
              "  {'polynomial_features__degree': 1,\n",
              "   'ridge_regression__alpha': 11.481691038624568},\n",
              "  {'polynomial_features__degree': 1,\n",
              "   'ridge_regression__alpha': 12.136913875967887},\n",
              "  {'polynomial_features__degree': 1,\n",
              "   'ridge_regression__alpha': 12.82952815374728},\n",
              "  {'polynomial_features__degree': 1,\n",
              "   'ridge_regression__alpha': 13.561667680093686},\n",
              "  {'polynomial_features__degree': 1,\n",
              "   'ridge_regression__alpha': 14.335588032641558},\n",
              "  {'polynomial_features__degree': 1,\n",
              "   'ridge_regression__alpha': 15.153673507519274},\n",
              "  {'polynomial_features__degree': 1,\n",
              "   'ridge_regression__alpha': 16.018444464895637},\n",
              "  {'polynomial_features__degree': 1,\n",
              "   'ridge_regression__alpha': 16.932565093713098},\n",
              "  {'polynomial_features__degree': 1,\n",
              "   'ridge_regression__alpha': 17.898851619528912},\n",
              "  {'polynomial_features__degree': 1,\n",
              "   'ridge_regression__alpha': 18.920280980751272},\n",
              "  {'polynomial_features__degree': 1,\n",
              "   'ridge_regression__alpha': 20.000000000000004},\n",
              "  {'polynomial_features__degree': 2, 'ridge_regression__alpha': 4.0},\n",
              "  {'polynomial_features__degree': 2,\n",
              "   'ridge_regression__alpha': 4.228267015769416},\n",
              "  {'polynomial_features__degree': 2,\n",
              "   'ridge_regression__alpha': 4.4695604891609},\n",
              "  {'polynomial_features__degree': 2,\n",
              "   'ridge_regression__alpha': 4.724623797826311},\n",
              "  {'polynomial_features__degree': 2,\n",
              "   'ridge_regression__alpha': 4.994242741567055},\n",
              "  {'polynomial_features__degree': 2,\n",
              "   'ridge_regression__alpha': 5.279247963228449},\n",
              "  {'polynomial_features__degree': 2,\n",
              "   'ridge_regression__alpha': 5.58051750774668},\n",
              "  {'polynomial_features__degree': 2,\n",
              "   'ridge_regression__alpha': 5.898979527232258},\n",
              "  {'polynomial_features__degree': 2,\n",
              "   'ridge_regression__alpha': 6.235615140423803},\n",
              "  {'polynomial_features__degree': 2,\n",
              "   'ridge_regression__alpha': 6.591461455321584},\n",
              "  {'polynomial_features__degree': 2,\n",
              "   'ridge_regression__alpha': 6.9676147643129305},\n",
              "  {'polynomial_features__degree': 2,\n",
              "   'ridge_regression__alpha': 7.365233921633089},\n",
              "  {'polynomial_features__degree': 2,\n",
              "   'ridge_regression__alpha': 7.785543913566802},\n",
              "  {'polynomial_features__degree': 2,\n",
              "   'ridge_regression__alpha': 8.229839632389709},\n",
              "  {'polynomial_features__degree': 2,\n",
              "   'ridge_regression__alpha': 8.699489865676323},\n",
              "  {'polynomial_features__degree': 2,\n",
              "   'ridge_regression__alpha': 9.195941513264877},\n",
              "  {'polynomial_features__degree': 2,\n",
              "   'ridge_regression__alpha': 9.720724044870641},\n",
              "  {'polynomial_features__degree': 2,\n",
              "   'ridge_regression__alpha': 10.275454212080797},\n",
              "  {'polynomial_features__degree': 2,\n",
              "   'ridge_regression__alpha': 10.861841029247536},\n",
              "  {'polynomial_features__degree': 2,\n",
              "   'ridge_regression__alpha': 11.481691038624568},\n",
              "  {'polynomial_features__degree': 2,\n",
              "   'ridge_regression__alpha': 12.136913875967887},\n",
              "  {'polynomial_features__degree': 2,\n",
              "   'ridge_regression__alpha': 12.82952815374728},\n",
              "  {'polynomial_features__degree': 2,\n",
              "   'ridge_regression__alpha': 13.561667680093686},\n",
              "  {'polynomial_features__degree': 2,\n",
              "   'ridge_regression__alpha': 14.335588032641558},\n",
              "  {'polynomial_features__degree': 2,\n",
              "   'ridge_regression__alpha': 15.153673507519274},\n",
              "  {'polynomial_features__degree': 2,\n",
              "   'ridge_regression__alpha': 16.018444464895637},\n",
              "  {'polynomial_features__degree': 2,\n",
              "   'ridge_regression__alpha': 16.932565093713098},\n",
              "  {'polynomial_features__degree': 2,\n",
              "   'ridge_regression__alpha': 17.898851619528912},\n",
              "  {'polynomial_features__degree': 2,\n",
              "   'ridge_regression__alpha': 18.920280980751272},\n",
              "  {'polynomial_features__degree': 2,\n",
              "   'ridge_regression__alpha': 20.000000000000004},\n",
              "  {'polynomial_features__degree': 3, 'ridge_regression__alpha': 4.0},\n",
              "  {'polynomial_features__degree': 3,\n",
              "   'ridge_regression__alpha': 4.228267015769416},\n",
              "  {'polynomial_features__degree': 3,\n",
              "   'ridge_regression__alpha': 4.4695604891609},\n",
              "  {'polynomial_features__degree': 3,\n",
              "   'ridge_regression__alpha': 4.724623797826311},\n",
              "  {'polynomial_features__degree': 3,\n",
              "   'ridge_regression__alpha': 4.994242741567055},\n",
              "  {'polynomial_features__degree': 3,\n",
              "   'ridge_regression__alpha': 5.279247963228449},\n",
              "  {'polynomial_features__degree': 3,\n",
              "   'ridge_regression__alpha': 5.58051750774668},\n",
              "  {'polynomial_features__degree': 3,\n",
              "   'ridge_regression__alpha': 5.898979527232258},\n",
              "  {'polynomial_features__degree': 3,\n",
              "   'ridge_regression__alpha': 6.235615140423803},\n",
              "  {'polynomial_features__degree': 3,\n",
              "   'ridge_regression__alpha': 6.591461455321584},\n",
              "  {'polynomial_features__degree': 3,\n",
              "   'ridge_regression__alpha': 6.9676147643129305},\n",
              "  {'polynomial_features__degree': 3,\n",
              "   'ridge_regression__alpha': 7.365233921633089},\n",
              "  {'polynomial_features__degree': 3,\n",
              "   'ridge_regression__alpha': 7.785543913566802},\n",
              "  {'polynomial_features__degree': 3,\n",
              "   'ridge_regression__alpha': 8.229839632389709},\n",
              "  {'polynomial_features__degree': 3,\n",
              "   'ridge_regression__alpha': 8.699489865676323},\n",
              "  {'polynomial_features__degree': 3,\n",
              "   'ridge_regression__alpha': 9.195941513264877},\n",
              "  {'polynomial_features__degree': 3,\n",
              "   'ridge_regression__alpha': 9.720724044870641},\n",
              "  {'polynomial_features__degree': 3,\n",
              "   'ridge_regression__alpha': 10.275454212080797},\n",
              "  {'polynomial_features__degree': 3,\n",
              "   'ridge_regression__alpha': 10.861841029247536},\n",
              "  {'polynomial_features__degree': 3,\n",
              "   'ridge_regression__alpha': 11.481691038624568},\n",
              "  {'polynomial_features__degree': 3,\n",
              "   'ridge_regression__alpha': 12.136913875967887},\n",
              "  {'polynomial_features__degree': 3,\n",
              "   'ridge_regression__alpha': 12.82952815374728},\n",
              "  {'polynomial_features__degree': 3,\n",
              "   'ridge_regression__alpha': 13.561667680093686},\n",
              "  {'polynomial_features__degree': 3,\n",
              "   'ridge_regression__alpha': 14.335588032641558},\n",
              "  {'polynomial_features__degree': 3,\n",
              "   'ridge_regression__alpha': 15.153673507519274},\n",
              "  {'polynomial_features__degree': 3,\n",
              "   'ridge_regression__alpha': 16.018444464895637},\n",
              "  {'polynomial_features__degree': 3,\n",
              "   'ridge_regression__alpha': 16.932565093713098},\n",
              "  {'polynomial_features__degree': 3,\n",
              "   'ridge_regression__alpha': 17.898851619528912},\n",
              "  {'polynomial_features__degree': 3,\n",
              "   'ridge_regression__alpha': 18.920280980751272},\n",
              "  {'polynomial_features__degree': 3,\n",
              "   'ridge_regression__alpha': 20.000000000000004}],\n",
              " 'rank_test_score': array([90, 89, 88, 87, 86, 85, 84, 83, 82, 80, 79, 77, 75, 74, 72, 70, 69,\n",
              "        67, 65, 63, 61, 62, 64, 66, 68, 71, 73, 76, 78, 81,  1,  2,  3,  7,\n",
              "        20, 28, 33, 36, 39, 40, 41, 42, 43, 44, 45, 46, 47, 48, 49, 50, 51,\n",
              "        52, 53, 54, 55, 56, 57, 58, 59, 60, 38, 37, 35, 34, 31, 29, 26, 24,\n",
              "        22, 19, 17, 15, 13, 11,  9,  6,  4,  5,  8, 10, 12, 14, 16, 18, 21,\n",
              "        23, 25, 27, 30, 32], dtype=int32),\n",
              " 'split0_test_score': array([0.67211108, 0.67210314, 0.67209324, 0.67208118, 0.67206672,\n",
              "        0.67204963, 0.67202966, 0.67200655, 0.67198001, 0.67194974,\n",
              "        0.67191544, 0.67187678, 0.67183341, 0.67178499, 0.67173113,\n",
              "        0.67167146, 0.67160557, 0.67153305, 0.67145348, 0.6713664 ,\n",
              "        0.67127137, 0.6711679 , 0.67105552, 0.6709337 , 0.67080194,\n",
              "        0.67065969, 0.67050638, 0.67034142, 0.67016421, 0.66997409,\n",
              "        0.8417071 , 0.84096666, 0.84019706, 0.83939674, 0.83856413,\n",
              "        0.83769769, 0.8367959 , 0.83585728, 0.83488043, 0.83386401,\n",
              "        0.83280679, 0.83170766, 0.83056561, 0.82937982, 0.82814961,\n",
              "        0.82687449, 0.82555416, 0.82418854, 0.82277776, 0.82132218,\n",
              "        0.81982238, 0.81827919, 0.81669366, 0.81506708, 0.81340097,\n",
              "        0.81169704, 0.80995724, 0.80818367, 0.80637862, 0.80454453,\n",
              "        0.82055593, 0.82118571, 0.82178961, 0.82236672, 0.82291624,\n",
              "        0.82343749, 0.82392991, 0.82439308, 0.82482665, 0.82523043,\n",
              "        0.82560431, 0.82594827, 0.8262624 , 0.82654686, 0.82680191,\n",
              "        0.82702784, 0.82722502, 0.82739388, 0.82753485, 0.82764842,\n",
              "        0.82773508, 0.82779532, 0.82782965, 0.82783852, 0.8278224 ,\n",
              "        0.8277817 , 0.82771678, 0.82762796, 0.82751549, 0.82737956]),\n",
              " 'split1_test_score': array([0.74823479, 0.74820653, 0.74817547, 0.74814136, 0.74810392,\n",
              "        0.74806286, 0.74801786, 0.74796859, 0.7479147 , 0.74785579,\n",
              "        0.74779145, 0.74772124, 0.74764471, 0.74756134, 0.74747062,\n",
              "        0.74737198, 0.74726483, 0.74714854, 0.74702245, 0.74688586,\n",
              "        0.74673803, 0.74657817, 0.74640546, 0.74621904, 0.74601799,\n",
              "        0.74580135, 0.74556811, 0.74531721, 0.74504752, 0.74475787,\n",
              "        0.86253663, 0.86218405, 0.86180012, 0.86138328, 0.860932  ,\n",
              "        0.86044469, 0.85991981, 0.85935582, 0.85875123, 0.8581046 ,\n",
              "        0.85741457, 0.85667985, 0.85589927, 0.8550718 , 0.85419652,\n",
              "        0.85327268, 0.85229972, 0.85127723, 0.85020502, 0.8490831 ,\n",
              "        0.84791169, 0.84669123, 0.84542237, 0.844106  , 0.84274321,\n",
              "        0.84133529, 0.83988377, 0.83839034, 0.83685687, 0.83528541,\n",
              "        0.87268617, 0.8726658 , 0.87263236, 0.87258574, 0.87252575,\n",
              "        0.87245217, 0.87236475, 0.87226324, 0.87214734, 0.87201679,\n",
              "        0.87187129, 0.87171059, 0.87153442, 0.87134256, 0.87113478,\n",
              "        0.87091089, 0.87067073, 0.87041415, 0.87014103, 0.86985128,\n",
              "        0.86954482, 0.86922156, 0.86888146, 0.86852446, 0.86815049,\n",
              "        0.86775949, 0.86735135, 0.86692596, 0.86648318, 0.8660228 ]),\n",
              " 'split2_test_score': array([0.70180089, 0.70198642, 0.70217792, 0.70237536, 0.70257867,\n",
              "        0.70278778, 0.70300256, 0.70322288, 0.70344855, 0.70367937,\n",
              "        0.70391508, 0.70415539, 0.70439999, 0.70464849, 0.70490048,\n",
              "        0.70515549, 0.70541302, 0.7056725 , 0.7059333 , 0.70619477,\n",
              "        0.70645615, 0.70671666, 0.70697543, 0.70723154, 0.707484  ,\n",
              "        0.70773173, 0.70797357, 0.70820831, 0.70843462, 0.7086511 ,\n",
              "        0.85965641, 0.85891614, 0.85812923, 0.85729477, 0.85641187,\n",
              "        0.85547968, 0.8544974 , 0.85346429, 0.85237968, 0.85124302,\n",
              "        0.85005385, 0.84881182, 0.84751674, 0.84616856, 0.84476742,\n",
              "        0.84331361, 0.84180763, 0.84025016, 0.8386421 , 0.83698456,\n",
              "        0.83527885, 0.8335265 , 0.83172925, 0.82988903, 0.82800797,\n",
              "        0.82608837, 0.8241327 , 0.82214357, 0.82012374, 0.81807606,\n",
              "        0.85395614, 0.85468096, 0.85535497, 0.85597972, 0.85655678,\n",
              "        0.8570877 , 0.85757399, 0.85801713, 0.85841851, 0.85877946,\n",
              "        0.8591012 , 0.85938488, 0.8596315 , 0.85984196, 0.86001703,\n",
              "        0.86015736, 0.86026343, 0.86033562, 0.86037414, 0.86037911,\n",
              "        0.86035046, 0.86028802, 0.86019151, 0.86006049, 0.85989444,\n",
              "        0.85969272, 0.8594546 , 0.85917926, 0.8588658 , 0.85851325]),\n",
              " 'std_fit_time': array([2.80940156e-03, 6.69454954e-05, 4.22950707e-04, 7.10026736e-06,\n",
              "        6.79065708e-05, 7.67817236e-05, 2.09953909e-04, 1.46083006e-04,\n",
              "        4.88348921e-04, 1.92773704e-05, 5.17162574e-05, 1.30565516e-04,\n",
              "        8.26885221e-05, 4.70961987e-04, 7.99924238e-05, 2.27495139e-05,\n",
              "        6.76306098e-05, 9.47853044e-05, 7.86623152e-05, 3.68258744e-05,\n",
              "        3.37511963e-04, 5.14479243e-04, 3.19285119e-05, 5.15977809e-05,\n",
              "        4.65920185e-04, 1.52079950e-04, 7.61252100e-05, 1.35565372e-04,\n",
              "        3.73015652e-04, 9.72725077e-05, 3.13837562e-03, 3.85463882e-03,\n",
              "        4.43357538e-04, 1.22979776e-04, 5.90528634e-04, 1.25357144e-04,\n",
              "        5.65543556e-04, 1.91635845e-04, 4.75474889e-04, 6.17438850e-04,\n",
              "        1.35813560e-04, 5.53562966e-04, 2.43814533e-03, 2.10573395e-03,\n",
              "        1.76223536e-04, 1.39081955e-04, 3.67931824e-04, 9.92177197e-05,\n",
              "        6.85546615e-04, 2.46478793e-03, 3.02088874e-04, 1.59468359e-03,\n",
              "        8.57224643e-04, 2.75049103e-04, 5.12144468e-05, 1.54868148e-03,\n",
              "        4.09457393e-04, 1.23509483e-03, 9.75754787e-04, 4.47980721e-04,\n",
              "        5.17644501e-03, 6.32721175e-04, 8.04642098e-03, 7.24172388e-04,\n",
              "        7.31436183e-05, 4.07762829e-04, 9.70461989e-03, 3.88112267e-04,\n",
              "        1.41973482e-03, 8.85956454e-04, 8.14091540e-03, 8.16074914e-03,\n",
              "        4.40119899e-03, 2.40696615e-03, 3.55681225e-04, 2.34381538e-04,\n",
              "        6.94679302e-03, 4.02780559e-04, 2.96964630e-04, 1.48525976e-03,\n",
              "        8.23365863e-03, 4.45858850e-04, 1.92293153e-04, 4.08316410e-04,\n",
              "        7.35377732e-04, 7.38624592e-03, 7.91550294e-03, 1.10910349e-03,\n",
              "        1.76074376e-04, 7.22391805e-04]),\n",
              " 'std_score_time': array([1.53601076e-04, 1.10650355e-03, 1.07262102e-04, 2.71262187e-05,\n",
              "        3.18936775e-05, 2.16461079e-05, 1.22704809e-04, 5.37251815e-05,\n",
              "        3.02095146e-05, 1.12352252e-05, 3.62558287e-05, 1.80412144e-05,\n",
              "        2.66185443e-05, 4.96690750e-05, 9.13557720e-06, 2.37821786e-05,\n",
              "        1.29191683e-05, 1.45644028e-04, 1.95147545e-05, 2.78703965e-05,\n",
              "        9.90131051e-06, 1.99773936e-04, 4.76202277e-05, 1.08306143e-04,\n",
              "        3.19548105e-05, 1.75233601e-05, 3.14702490e-05, 2.78701699e-05,\n",
              "        1.75917084e-05, 2.56654275e-05, 9.13307117e-04, 5.81827097e-05,\n",
              "        2.54192398e-04, 6.36455061e-05, 3.36005762e-05, 4.64506458e-05,\n",
              "        8.64170789e-05, 1.10692885e-05, 7.95809488e-05, 3.08843844e-05,\n",
              "        2.86763804e-06, 5.04212550e-05, 1.29810480e-03, 2.35596485e-05,\n",
              "        7.94169706e-05, 1.93832333e-05, 5.22893974e-05, 3.23178121e-05,\n",
              "        9.79054670e-05, 1.26783923e-03, 4.62797682e-04, 7.04253785e-04,\n",
              "        8.66707937e-04, 4.45284951e-05, 2.00387755e-04, 9.10841749e-04,\n",
              "        2.98967983e-05, 1.31591254e-03, 5.34530461e-05, 1.73503032e-04,\n",
              "        1.51803970e-03, 7.21171428e-05, 1.93112515e-03, 1.42851675e-03,\n",
              "        8.17226028e-05, 2.88286087e-05, 1.44493215e-03, 5.14757191e-04,\n",
              "        1.25675808e-03, 8.07178861e-04, 1.50543505e-03, 1.10481890e-03,\n",
              "        1.83272352e-03, 5.42631468e-06, 1.46132113e-04, 1.37812676e-04,\n",
              "        1.43431365e-03, 1.76792409e-04, 4.31115176e-05, 1.32261518e-03,\n",
              "        1.41097038e-03, 1.09403102e-04, 4.66618722e-05, 5.56199880e-05,\n",
              "        5.27544566e-04, 1.45790953e-03, 1.99598741e-05, 1.14971549e-04,\n",
              "        2.18170008e-05, 3.46422569e-04]),\n",
              " 'std_test_score': array([0.03132697, 0.03130679, 0.03128608, 0.03126485, 0.0312431 ,\n",
              "        0.03122086, 0.03119812, 0.0311749 , 0.03115122, 0.03112707,\n",
              "        0.03110249, 0.03107746, 0.031052  , 0.03102612, 0.03099981,\n",
              "        0.03097307, 0.0309459 , 0.03091829, 0.03089021, 0.03086164,\n",
              "        0.03083255, 0.03080289, 0.03077261, 0.03074165, 0.03070993,\n",
              "        0.03067736, 0.03064384, 0.03060926, 0.03057348, 0.03053636,\n",
              "        0.00921558, 0.00932762, 0.00943828, 0.00954791, 0.00965686,\n",
              "        0.00976545, 0.00987399, 0.00998275, 0.010092  , 0.01020195,\n",
              "        0.01031279, 0.0104247 , 0.01053777, 0.01065211, 0.01076776,\n",
              "        0.01088471, 0.01100295, 0.01112239, 0.01124294, 0.01136444,\n",
              "        0.01148671, 0.01160955, 0.01173272, 0.01185595, 0.01197896,\n",
              "        0.01210145, 0.0122231 , 0.0123436 , 0.01246261, 0.01257981,\n",
              "        0.02156115, 0.02133225, 0.02110852, 0.02089004, 0.02067687,\n",
              "        0.02046906, 0.02026662, 0.02006955, 0.0198778 , 0.0196913 ,\n",
              "        0.01950997, 0.01933368, 0.01916227, 0.01899556, 0.01883334,\n",
              "        0.01867537, 0.01852139, 0.01837111, 0.01822421, 0.01808038,\n",
              "        0.01793926, 0.01780049, 0.0176637 , 0.01752851, 0.01739455,\n",
              "        0.01726142, 0.01712875, 0.01699617, 0.01686333, 0.01672988])}"
            ]
          },
          "metadata": {
            "tags": []
          },
          "execution_count": 91
        }
      ]
    },
    {
      "cell_type": "markdown",
      "metadata": {
        "id": "1dz7Lr38CGKL"
      },
      "source": [
        "## Summary\n",
        "\n",
        "1. We can manually generate folds by using `KFolds`\n",
        "2. We can get a score using `cross_val_predict(X, y, cv=KFoldObject_or_integer)`. \n",
        "   This will produce the out-of-bag prediction for each row.\n",
        "3. When doing hyperparameter selection, we should be optimizing on out-of-bag scores. This means either using `cross_val_predict` in a loop, or ....\n",
        "4. .... use `GridSearchCV`. GridSearchCV takes a model (or pipeline) and a dictionary of parameters to scan over. It finds the hyperparameter set that has the best out-of-sample score on all the parameters, and calls that it's \"best estimator\". It then retrains on all data with the \"best\" hyper-parameters.\n",
        "\n",
        "### Extensions\n",
        "\n",
        "Here are some additional items to keep in mind:\n",
        "* There is a `RandomSearchCV` that tries random combination of model parameters. This can be helpful if you have a prohibitive number of combinations to test them all exhaustively.\n",
        "* KFolds will randomly select rows to be in the training and test folds. There are other methods (such as `StratifiedKFolds` and `GroupKFold`, which are useful when you need more control over how the data is split (e.g. to prevent data leakage). You can create these specialized objects and pass them to the `cv` argument of `GridSearchCV`."
      ]
    },
    {
      "cell_type": "markdown",
      "metadata": {
        "id": "BHvaF-m8CGKL"
      },
      "source": [
        "---\n",
        "### Machine Learning Foundation (C) 2020 IBM Corporation"
      ]
    }
  ]
}